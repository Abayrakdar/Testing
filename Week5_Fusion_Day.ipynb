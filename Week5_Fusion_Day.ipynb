{
  "nbformat": 4,
  "nbformat_minor": 0,
  "metadata": {
    "colab": {
      "provenance": [],
      "authorship_tag": "ABX9TyP7WJfd4YIKnk7EJa0kDMD/",
      "include_colab_link": true
    },
    "kernelspec": {
      "name": "python3",
      "display_name": "Python 3"
    },
    "language_info": {
      "name": "python"
    }
  },
  "cells": [
    {
      "cell_type": "markdown",
      "metadata": {
        "id": "view-in-github",
        "colab_type": "text"
      },
      "source": [
        "<a href=\"https://colab.research.google.com/github/Abayrakdar/Testing/blob/main/Week5_Fusion_Day.ipynb\" target=\"_parent\"><img src=\"https://colab.research.google.com/assets/colab-badge.svg\" alt=\"Open In Colab\"/></a>"
      ]
    },
    {
      "cell_type": "code",
      "execution_count": 1,
      "metadata": {
        "colab": {
          "base_uri": "https://localhost:8080/"
        },
        "id": "8XAAszp17ulU",
        "outputId": "263170bf-1f4c-41c6-a2f8-aee12bb03da7"
      },
      "outputs": [
        {
          "output_type": "stream",
          "name": "stdout",
          "text": [
            "hello world\n"
          ]
        }
      ],
      "source": [
        "def first_func():       \n",
        "  print(\"hello world\")\n",
        "first_func()\n"
      ]
    },
    {
      "cell_type": "code",
      "source": [
        "# Regardless for \"for i\" if we specify start and end or without, it will start counting from 0\n",
        "for i in range(2):\n",
        "  first_func()\n"
      ],
      "metadata": {
        "colab": {
          "base_uri": "https://localhost:8080/"
        },
        "id": "zeucm7db8BD5",
        "outputId": "9a3f346a-87e2-4cbc-ee71-cc20cfdf1d16"
      },
      "execution_count": 2,
      "outputs": [
        {
          "output_type": "stream",
          "name": "stdout",
          "text": [
            "hello world\n",
            "hello world\n"
          ]
        }
      ]
    },
    {
      "cell_type": "code",
      "source": [
        "def first_func():#defining a ftn\n",
        "  print(\"hello world\")\n",
        "first_func()#calling a ftn\n"
      ],
      "metadata": {
        "colab": {
          "base_uri": "https://localhost:8080/"
        },
        "id": "jRRsyqg99nTR",
        "outputId": "d0f430fb-15a8-4c11-b8d7-3893e114b0ad"
      },
      "execution_count": 3,
      "outputs": [
        {
          "output_type": "stream",
          "name": "stdout",
          "text": [
            "hello world\n"
          ]
        }
      ]
    },
    {
      "cell_type": "code",
      "source": [
        "first_func()\n",
        "first_func()\n",
        "first_func()\n"
      ],
      "metadata": {
        "colab": {
          "base_uri": "https://localhost:8080/"
        },
        "id": "1tHb_aMb9qDh",
        "outputId": "34979d04-ca35-47c4-cce6-7bc70b2ef231"
      },
      "execution_count": 4,
      "outputs": [
        {
          "output_type": "stream",
          "name": "stdout",
          "text": [
            "hello world\n",
            "hello world\n",
            "hello world\n"
          ]
        }
      ]
    },
    {
      "cell_type": "code",
      "source": [
        "for i in range(0,10):\n",
        "  first_func()\n"
      ],
      "metadata": {
        "colab": {
          "base_uri": "https://localhost:8080/"
        },
        "id": "fL6oecnn9vQQ",
        "outputId": "3204ae1f-46f5-4c36-ddf1-b411fef6ec17"
      },
      "execution_count": 5,
      "outputs": [
        {
          "output_type": "stream",
          "name": "stdout",
          "text": [
            "hello world\n",
            "hello world\n",
            "hello world\n",
            "hello world\n",
            "hello world\n",
            "hello world\n",
            "hello world\n",
            "hello world\n",
            "hello world\n",
            "hello world\n"
          ]
        }
      ]
    },
    {
      "cell_type": "code",
      "source": [
        "def first_func(name1):\n",
        "  print(\"Hello\", name1)\n",
        "first_func(\"John\") # Here if we call the function without the argument,\n",
        "# it will give an error because THIS function was defined to need a single argument without it\n",
        "# it will not work.\n",
        "\n"
      ],
      "metadata": {
        "colab": {
          "base_uri": "https://localhost:8080/"
        },
        "id": "Vq7bXJak9ycz",
        "outputId": "8688e8dd-528f-46ca-f1f3-197fb2770a74"
      },
      "execution_count": 6,
      "outputs": [
        {
          "output_type": "stream",
          "name": "stdout",
          "text": [
            "Hello John\n"
          ]
        }
      ]
    },
    {
      "cell_type": "code",
      "source": [
        "def first_func(name1,name2):\n",
        "  print(\"Hello\",name1,name2)\n",
        "first_func(\"John\",\"Zara\") # Same thing applies here, if we pass ONLY ne argument, it will give an error.\n"
      ],
      "metadata": {
        "colab": {
          "base_uri": "https://localhost:8080/"
        },
        "id": "DAlo95w292ak",
        "outputId": "8b058014-49b5-4dcf-8b7a-74b68bbd43fd"
      },
      "execution_count": 7,
      "outputs": [
        {
          "output_type": "stream",
          "name": "stdout",
          "text": [
            "Hello John Zara\n"
          ]
        }
      ]
    },
    {
      "cell_type": "code",
      "source": [
        "def add_func(val1,val2):\n",
        "  print(val1+val2)\n",
        "add_func(4,8) # Notice herer the indentation has to go back one space to work.\n"
      ],
      "metadata": {
        "colab": {
          "base_uri": "https://localhost:8080/"
        },
        "id": "RVX1wOYC-jjl",
        "outputId": "f62537d7-47ac-4e65-c24b-fb6bd2892bce"
      },
      "execution_count": 11,
      "outputs": [
        {
          "output_type": "stream",
          "name": "stdout",
          "text": [
            "12\n"
          ]
        }
      ]
    },
    {
      "cell_type": "code",
      "source": [
        "add_func() # Notice here we did not pass arguments to it, it gives error indicating missing positional arguments.\n"
      ],
      "metadata": {
        "colab": {
          "base_uri": "https://localhost:8080/",
          "height": 190
        },
        "id": "ZUJZsYSJ_D2p",
        "outputId": "4268bb9d-ce6e-4386-b1d3-cb99767e7942"
      },
      "execution_count": 12,
      "outputs": [
        {
          "output_type": "error",
          "ename": "TypeError",
          "evalue": "ignored",
          "traceback": [
            "\u001b[0;31m---------------------------------------------------------------------------\u001b[0m",
            "\u001b[0;31mTypeError\u001b[0m                                 Traceback (most recent call last)",
            "\u001b[0;32m<ipython-input-12-c722e4ef896b>\u001b[0m in \u001b[0;36m<module>\u001b[0;34m\u001b[0m\n\u001b[0;32m----> 1\u001b[0;31m \u001b[0madd_func\u001b[0m\u001b[0;34m(\u001b[0m\u001b[0;34m)\u001b[0m \u001b[0;31m# Notice here we did not pass arguments to it, it gives error indicating missing positional arguments.\u001b[0m\u001b[0;34m\u001b[0m\u001b[0;34m\u001b[0m\u001b[0m\n\u001b[0m",
            "\u001b[0;31mTypeError\u001b[0m: add_func() missing 2 required positional arguments: 'val1' and 'val2'"
          ]
        }
      ]
    },
    {
      "cell_type": "code",
      "source": [],
      "metadata": {
        "id": "XAsr3Qgc_UI4"
      },
      "execution_count": null,
      "outputs": []
    }
  ]
}