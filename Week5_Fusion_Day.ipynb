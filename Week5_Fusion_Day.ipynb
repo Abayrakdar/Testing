{
  "nbformat": 4,
  "nbformat_minor": 0,
  "metadata": {
    "colab": {
      "provenance": [],
      "authorship_tag": "ABX9TyMOBIv16hbGjkeP3hwcLrfC",
      "include_colab_link": true
    },
    "kernelspec": {
      "name": "python3",
      "display_name": "Python 3"
    },
    "language_info": {
      "name": "python"
    }
  },
  "cells": [
    {
      "cell_type": "markdown",
      "metadata": {
        "id": "view-in-github",
        "colab_type": "text"
      },
      "source": [
        "<a href=\"https://colab.research.google.com/github/Abayrakdar/Testing/blob/main/Week5_Fusion_Day.ipynb\" target=\"_parent\"><img src=\"https://colab.research.google.com/assets/colab-badge.svg\" alt=\"Open In Colab\"/></a>"
      ]
    },
    {
      "cell_type": "code",
      "execution_count": 1,
      "metadata": {
        "colab": {
          "base_uri": "https://localhost:8080/"
        },
        "id": "8XAAszp17ulU",
        "outputId": "263170bf-1f4c-41c6-a2f8-aee12bb03da7"
      },
      "outputs": [
        {
          "output_type": "stream",
          "name": "stdout",
          "text": [
            "hello world\n"
          ]
        }
      ],
      "source": [
        "def first_func():       \n",
        "  print(\"hello world\")\n",
        "first_func()\n"
      ]
    },
    {
      "cell_type": "code",
      "source": [
        "# Regardless for \"for i\" if we specify start as (0) and end or without, it will start counting from 0\n",
        "# unless we specified the start to be (1) it will start counting from 1,\n",
        "# for i in range(1,2): it will start from 1 and stops at it the (1) immediately because it will end\n",
        "# 1 step before the specified end.\n",
        "for i in range(2):\n",
        "  first_func()\n"
      ],
      "metadata": {
        "colab": {
          "base_uri": "https://localhost:8080/"
        },
        "id": "zeucm7db8BD5",
        "outputId": "9a3f346a-87e2-4cbc-ee71-cc20cfdf1d16"
      },
      "execution_count": 2,
      "outputs": [
        {
          "output_type": "stream",
          "name": "stdout",
          "text": [
            "hello world\n",
            "hello world\n"
          ]
        }
      ]
    },
    {
      "cell_type": "code",
      "source": [
        "def first_func():#defining a function\n",
        "  print(\"hello world\")\n",
        "first_func()#calling a ftn\n"
      ],
      "metadata": {
        "colab": {
          "base_uri": "https://localhost:8080/"
        },
        "id": "jRRsyqg99nTR",
        "outputId": "d0f430fb-15a8-4c11-b8d7-3893e114b0ad"
      },
      "execution_count": 3,
      "outputs": [
        {
          "output_type": "stream",
          "name": "stdout",
          "text": [
            "hello world\n"
          ]
        }
      ]
    },
    {
      "cell_type": "code",
      "source": [
        "first_func()\n",
        "first_func()\n",
        "first_func()\n"
      ],
      "metadata": {
        "colab": {
          "base_uri": "https://localhost:8080/"
        },
        "id": "1tHb_aMb9qDh",
        "outputId": "34979d04-ca35-47c4-cce6-7bc70b2ef231"
      },
      "execution_count": 4,
      "outputs": [
        {
          "output_type": "stream",
          "name": "stdout",
          "text": [
            "hello world\n",
            "hello world\n",
            "hello world\n"
          ]
        }
      ]
    },
    {
      "cell_type": "code",
      "source": [
        "for i in range(0,10):\n",
        "  first_func()\n"
      ],
      "metadata": {
        "colab": {
          "base_uri": "https://localhost:8080/"
        },
        "id": "fL6oecnn9vQQ",
        "outputId": "3204ae1f-46f5-4c36-ddf1-b411fef6ec17"
      },
      "execution_count": 5,
      "outputs": [
        {
          "output_type": "stream",
          "name": "stdout",
          "text": [
            "hello world\n",
            "hello world\n",
            "hello world\n",
            "hello world\n",
            "hello world\n",
            "hello world\n",
            "hello world\n",
            "hello world\n",
            "hello world\n",
            "hello world\n"
          ]
        }
      ]
    },
    {
      "cell_type": "code",
      "source": [
        "def first_func(name1):\n",
        "  print(\"Hello\", name1)\n",
        "first_func(\"John\") # Here if we call the function without the argument,\n",
        "# it will give an error because THIS function was defined to need a single argument without it\n",
        "# it will not work.\n",
        "\n"
      ],
      "metadata": {
        "colab": {
          "base_uri": "https://localhost:8080/"
        },
        "id": "Vq7bXJak9ycz",
        "outputId": "8688e8dd-528f-46ca-f1f3-197fb2770a74"
      },
      "execution_count": 6,
      "outputs": [
        {
          "output_type": "stream",
          "name": "stdout",
          "text": [
            "Hello John\n"
          ]
        }
      ]
    },
    {
      "cell_type": "code",
      "source": [
        "def first_func(name1,name2):\n",
        "  print(\"Hello\",name1,name2)\n",
        "first_func(\"John\",\"Zara\") # Same thing applies here, if we pass ONLY ne argument, it will give an error.\n"
      ],
      "metadata": {
        "colab": {
          "base_uri": "https://localhost:8080/"
        },
        "id": "DAlo95w292ak",
        "outputId": "8b058014-49b5-4dcf-8b7a-74b68bbd43fd"
      },
      "execution_count": 7,
      "outputs": [
        {
          "output_type": "stream",
          "name": "stdout",
          "text": [
            "Hello John Zara\n"
          ]
        }
      ]
    },
    {
      "cell_type": "code",
      "source": [
        "def add_func(val1,val2):\n",
        "  print(val1+val2)\n",
        "add_func(4,8) # Notice herer the indentation has to go back one space to work.\n"
      ],
      "metadata": {
        "colab": {
          "base_uri": "https://localhost:8080/"
        },
        "id": "RVX1wOYC-jjl",
        "outputId": "f62537d7-47ac-4e65-c24b-fb6bd2892bce"
      },
      "execution_count": 11,
      "outputs": [
        {
          "output_type": "stream",
          "name": "stdout",
          "text": [
            "12\n"
          ]
        }
      ]
    },
    {
      "cell_type": "code",
      "source": [
        "add_func() # Notice here we did not pass arguments to it, it gives error indicating missing positional arguments.\n"
      ],
      "metadata": {
        "colab": {
          "base_uri": "https://localhost:8080/",
          "height": 190
        },
        "id": "ZUJZsYSJ_D2p",
        "outputId": "4268bb9d-ce6e-4386-b1d3-cb99767e7942"
      },
      "execution_count": 12,
      "outputs": [
        {
          "output_type": "error",
          "ename": "TypeError",
          "evalue": "ignored",
          "traceback": [
            "\u001b[0;31m---------------------------------------------------------------------------\u001b[0m",
            "\u001b[0;31mTypeError\u001b[0m                                 Traceback (most recent call last)",
            "\u001b[0;32m<ipython-input-12-c722e4ef896b>\u001b[0m in \u001b[0;36m<module>\u001b[0;34m\u001b[0m\n\u001b[0;32m----> 1\u001b[0;31m \u001b[0madd_func\u001b[0m\u001b[0;34m(\u001b[0m\u001b[0;34m)\u001b[0m \u001b[0;31m# Notice here we did not pass arguments to it, it gives error indicating missing positional arguments.\u001b[0m\u001b[0;34m\u001b[0m\u001b[0;34m\u001b[0m\u001b[0m\n\u001b[0m",
            "\u001b[0;31mTypeError\u001b[0m: add_func() missing 2 required positional arguments: 'val1' and 'val2'"
          ]
        }
      ]
    },
    {
      "cell_type": "code",
      "source": [],
      "metadata": {
        "id": "XAsr3Qgc_UI4"
      },
      "execution_count": null,
      "outputs": []
    },
    {
      "cell_type": "code",
      "source": [
        "def add_func(val1=0,val2=0):\n",
        "  print(val1+val2)\n",
        "add_func()\n"
      ],
      "metadata": {
        "colab": {
          "base_uri": "https://localhost:8080/"
        },
        "id": "yI8PpZvt_mTX",
        "outputId": "c2897ddf-6742-4d33-dee9-047f987da7cd"
      },
      "execution_count": 13,
      "outputs": [
        {
          "output_type": "stream",
          "name": "stdout",
          "text": [
            "0\n"
          ]
        }
      ]
    },
    {
      "cell_type": "code",
      "source": [
        "add_func(10,5)\n"
      ],
      "metadata": {
        "colab": {
          "base_uri": "https://localhost:8080/"
        },
        "id": "sTR-PGZvAgdk",
        "outputId": "b5e38846-acb3-4c61-b19a-a13d6233b1af"
      },
      "execution_count": 14,
      "outputs": [
        {
          "output_type": "stream",
          "name": "stdout",
          "text": [
            "15\n"
          ]
        }
      ]
    },
    {
      "cell_type": "code",
      "source": [
        "# We can use \"return\" keyword statement instead of print.\n",
        "def add_func(val1,val2):\n",
        "  return val1+val2  # but the return is only to return the function value back not specifically the PRINT.\n",
        "add_func(6,7) # or\n",
        "myresult=add_func(6,7)\n",
        "print(myresult)\n"
      ],
      "metadata": {
        "colab": {
          "base_uri": "https://localhost:8080/"
        },
        "id": "8ZcfCKk2AmHL",
        "outputId": "86b7e5cf-2e00-4019-faf9-c991aae4102e"
      },
      "execution_count": 15,
      "outputs": [
        {
          "output_type": "stream",
          "name": "stdout",
          "text": [
            "13\n"
          ]
        }
      ]
    },
    {
      "cell_type": "code",
      "source": [
        "def my_concat(val1,val2):\n",
        "  return val1+val2 # return keyword is a function like def and print in Python.\n",
        "my_result=my_concat(\"Anis\",\"Bayrkdar\")\n",
        "print(my_result)\n",
        "my_concat(6,8) # it won't work in here because the my_result is still defined as (\"Anis\",\"Bayrkdar\")\n",
        "print(my_result)"
      ],
      "metadata": {
        "colab": {
          "base_uri": "https://localhost:8080/"
        },
        "id": "a0vKqRZaCQoV",
        "outputId": "0e12c10e-34da-4b5c-9882-6e226eb62112"
      },
      "execution_count": 18,
      "outputs": [
        {
          "output_type": "stream",
          "name": "stdout",
          "text": [
            "AnisBayrkdar\n",
            "AnisBayrkdar\n"
          ]
        }
      ]
    },
    {
      "cell_type": "code",
      "source": [
        "myresult=my_concat(6,8) # here it works because I am calling it to print the new myresult of 6 and 8.\n",
        "print(myresult)"
      ],
      "metadata": {
        "colab": {
          "base_uri": "https://localhost:8080/"
        },
        "id": "6GKBoW-TEwBA",
        "outputId": "f9cad0c8-b144-4b03-c510-b508d7d25ed6"
      },
      "execution_count": 19,
      "outputs": [
        {
          "output_type": "stream",
          "name": "stdout",
          "text": [
            "14\n"
          ]
        }
      ]
    },
    {
      "cell_type": "code",
      "source": [
        "def add_func(val1,val2,val3,val4):\n",
        "  return sum((val1,val2,val3,val4))\n",
        "myresult=add_func(1,2,3,4)\n",
        "print(myresult)"
      ],
      "metadata": {
        "colab": {
          "base_uri": "https://localhost:8080/"
        },
        "id": "3xDRcidQFEFk",
        "outputId": "188eb170-179b-4bc7-f9ef-0ddc3e9daeec"
      },
      "execution_count": 25,
      "outputs": [
        {
          "output_type": "stream",
          "name": "stdout",
          "text": [
            "10\n"
          ]
        }
      ]
    },
    {
      "cell_type": "code",
      "source": [
        "def add_func(*val): # The asterisk allows for flexibility and put them in a tuple which can be accessed.\n",
        "  return sum(val)\n",
        "myresult=add_func(2,3,4,5,6,7,8)\n",
        "print(myresult)\n"
      ],
      "metadata": {
        "colab": {
          "base_uri": "https://localhost:8080/"
        },
        "id": "jki08PTQFYKp",
        "outputId": "bd0cbcca-8767-45ec-ed16-d61f3eef2674"
      },
      "execution_count": 26,
      "outputs": [
        {
          "output_type": "stream",
          "name": "stdout",
          "text": [
            "35\n"
          ]
        }
      ]
    },
    {
      "cell_type": "code",
      "source": [
        "def fruit_fav(fruit1,fruit2,fruit3):\n",
        "  print(\"The summer season fruit is \"+fruit3)\n",
        "fruit_fav(fruit3=\"Strawburry\",fruit1=\"Apple\",fruit2=\"Grapes\")\n",
        "# Here NOTICE the key position does not matter because it has a key and a value, the key is fruit1 etc...\n",
        "\n"
      ],
      "metadata": {
        "colab": {
          "base_uri": "https://localhost:8080/"
        },
        "id": "Atk1lEq1MmPR",
        "outputId": "f8731e82-8a4a-49a8-b953-8d7b8692ba07"
      },
      "execution_count": 27,
      "outputs": [
        {
          "output_type": "stream",
          "name": "stdout",
          "text": [
            "The summer season fruit is Strawburry\n"
          ]
        }
      ]
    },
    {
      "cell_type": "code",
      "source": [
        "# When we define ONE asterisk is positional argument while when we put TWO asterisks\n",
        "# it becomes a KEY that must have a value where it doesn't matter where it comes because it will need a value.\n",
        "# So TWO ** becomes like a dictionary.\n",
        "def fruit_fav(**fruits):\n",
        "  print(\"My favourite season fruit is \"+fruits[\"summer_fruit\"])\n",
        "fruit_fav(winter_fruit=\"Apple\", summer_fruit=\"Banana\", spring_fruit=\"Grapes\")"
      ],
      "metadata": {
        "colab": {
          "base_uri": "https://localhost:8080/"
        },
        "id": "mgtlcVNfNmwT",
        "outputId": "33410dc2-9979-4dc9-d144-b675518c39c4"
      },
      "execution_count": 30,
      "outputs": [
        {
          "output_type": "stream",
          "name": "stdout",
          "text": [
            "My favourite season fruit is Banana\n"
          ]
        }
      ]
    },
    {
      "cell_type": "code",
      "source": [
        "# Lambda function\n",
        "# defining => argument:expression\n",
        "add=lambda a,b:a+b\n",
        "print(add(6,8))\n"
      ],
      "metadata": {
        "colab": {
          "base_uri": "https://localhost:8080/"
        },
        "id": "YX8avUIpPWQj",
        "outputId": "e4851b49-27c9-43fb-beb5-56ea728bfbe5"
      },
      "execution_count": 31,
      "outputs": [
        {
          "output_type": "stream",
          "name": "stdout",
          "text": [
            "14\n"
          ]
        }
      ]
    },
    {
      "cell_type": "code",
      "source": [
        "# So lambda is an ANONYMOUS function that can be defined for any relationship.\n",
        "is_even=lambda val:val%2==0\n",
        "print(is_even(4))\n"
      ],
      "metadata": {
        "colab": {
          "base_uri": "https://localhost:8080/"
        },
        "id": "PreMs8_VRTfG",
        "outputId": "a02f658a-3b5b-4ce9-d60e-f5c813486a8a"
      },
      "execution_count": 33,
      "outputs": [
        {
          "output_type": "stream",
          "name": "stdout",
          "text": [
            "True\n"
          ]
        }
      ]
    },
    {
      "cell_type": "code",
      "source": [
        "# zip is a function inPython which combines values from 1st, 2nd and 3rd columns together for example.\n",
        "# it is similar to the zip in our clothes it brings things together.\n",
        "tup1=(\"A\",\"B\",\"C\")\n",
        "tup2=(\"a\",\"b\",\"c\")\n",
        "zipped_values=zip(tup1,tup2)\n",
        "for i in zipped_values:\n",
        "  print(i)\n"
      ],
      "metadata": {
        "colab": {
          "base_uri": "https://localhost:8080/"
        },
        "id": "PMvk2TzySPeH",
        "outputId": "f08a313a-1692-4e3f-ab22-07d0c9d1c9c1"
      },
      "execution_count": 35,
      "outputs": [
        {
          "output_type": "stream",
          "name": "stdout",
          "text": [
            "('A', 'a')\n",
            "('B', 'b')\n",
            "('C', 'c')\n"
          ]
        }
      ]
    },
    {
      "cell_type": "code",
      "source": [
        "# Now to print the zip-ped values in a list:\n",
        "tup1=(\"A\",\"B\",\"C\")\n",
        "tup2=(\"a\",\"b\",\"c\")\n",
        "zipped_values=list(zip(tup1,tup2))\n",
        "print(zipped_values)\n"
      ],
      "metadata": {
        "colab": {
          "base_uri": "https://localhost:8080/"
        },
        "id": "VCg9LyXVTjFi",
        "outputId": "7f62d975-5e04-438c-9790-3888fe9979fe"
      },
      "execution_count": 36,
      "outputs": [
        {
          "output_type": "stream",
          "name": "stdout",
          "text": [
            "[('A', 'a'), ('B', 'b'), ('C', 'c')]\n"
          ]
        }
      ]
    }
  ]
}