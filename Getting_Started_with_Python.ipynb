{
  "nbformat": 4,
  "nbformat_minor": 0,
  "metadata": {
    "colab": {
      "provenance": [],
      "authorship_tag": "ABX9TyNfslLHQU6wjDL25ROD7E2g",
      "include_colab_link": true
    },
    "kernelspec": {
      "name": "python3",
      "display_name": "Python 3"
    },
    "language_info": {
      "name": "python"
    }
  },
  "cells": [
    {
      "cell_type": "markdown",
      "metadata": {
        "id": "view-in-github",
        "colab_type": "text"
      },
      "source": [
        "<a href=\"https://colab.research.google.com/github/Abayrakdar/Testing/blob/main/Getting_Started_with_Python.ipynb\" target=\"_parent\"><img src=\"https://colab.research.google.com/assets/colab-badge.svg\" alt=\"Open In Colab\"/></a>"
      ]
    },
    {
      "cell_type": "code",
      "execution_count": null,
      "metadata": {
        "colab": {
          "base_uri": "https://localhost:8080/"
        },
        "id": "LAnkJrFXLvaB",
        "outputId": "8db9f055-26eb-47c1-a900-3edfc04a4e0e"
      },
      "outputs": [
        {
          "output_type": "stream",
          "name": "stdout",
          "text": [
            "Hello World!\n"
          ]
        }
      ],
      "source": [
        "x = \"Hello World!\"\n",
        "print(x)"
      ]
    },
    {
      "cell_type": "code",
      "source": [
        "x,y =24,12\n",
        "if x == y:\n",
        "  print(\"The first number is not equal to the second\")\n",
        "elif x>y:\n",
        "  print(\"The first number is greater than the second one\")\n",
        "else:\n",
        "  print(\"The first number is smaller than the second one\")"
      ],
      "metadata": {
        "colab": {
          "base_uri": "https://localhost:8080/"
        },
        "id": "Sz5UrvayC0sx",
        "outputId": "1139d540-ccdc-4750-bb72-4b18f8fdb4d0"
      },
      "execution_count": 34,
      "outputs": [
        {
          "output_type": "stream",
          "name": "stdout",
          "text": [
            "The first number is greater than the second one\n"
          ]
        }
      ]
    },
    {
      "cell_type": "code",
      "source": [
        "a,b,c = -5,0,10\n",
        "if c==0:\n",
        "  print(\"number = 0\")\n",
        "elif c>0:\n",
        "  print(\"number is positive\")\n",
        "else:\n",
        "  print(\"number is negative\")\n"
      ],
      "metadata": {
        "colab": {
          "base_uri": "https://localhost:8080/"
        },
        "id": "bnV2f_MCGZb1",
        "outputId": "0756bec4-5ca9-4dd0-d3d4-393817c649ae"
      },
      "execution_count": 30,
      "outputs": [
        {
          "output_type": "stream",
          "name": "stdout",
          "text": [
            "number is positive\n"
          ]
        }
      ]
    },
    {
      "cell_type": "code",
      "source": [
        "for i in range(0,6):\n",
        "  print(\"The iteration is {}\".format(i))\n",
        "print(\"The end...\")\n"
      ],
      "metadata": {
        "colab": {
          "base_uri": "https://localhost:8080/"
        },
        "id": "iwI8PsF7Dnt3",
        "outputId": "bf5d4d40-5479-41ca-f995-c7314e43878f"
      },
      "execution_count": 24,
      "outputs": [
        {
          "output_type": "stream",
          "name": "stdout",
          "text": [
            "The iteration is 0\n",
            "The iteration is 1\n",
            "The iteration is 2\n",
            "The iteration is 3\n",
            "The iteration is 4\n",
            "The iteration is 5\n",
            "The end...\n"
          ]
        }
      ]
    },
    {
      "cell_type": "code",
      "source": [
        "a=0\n",
        "while a<6:\n",
        "  print(a)\n",
        "  a+=1\n",
        "print(\"The end..\")"
      ],
      "metadata": {
        "colab": {
          "base_uri": "https://localhost:8080/"
        },
        "id": "LyvkMfmFHRRn",
        "outputId": "1959107a-dc66-4d86-eea4-4cc3bb14893d"
      },
      "execution_count": 38,
      "outputs": [
        {
          "output_type": "stream",
          "name": "stdout",
          "text": [
            "0\n",
            "1\n",
            "2\n",
            "3\n",
            "4\n",
            "5\n",
            "The end..\n"
          ]
        }
      ]
    },
    {
      "cell_type": "code",
      "source": [
        "targetvalue =4\n",
        "iterate =0\n",
        "while iterate <targetvalue:\n",
        "  print(\"The iteration no. is {}, which is less than the target value {}\".format(iterate, targetvalue))\n",
        "  iterate=iterate+1\n",
        "print(\"The end!\")\n"
      ],
      "metadata": {
        "colab": {
          "base_uri": "https://localhost:8080/"
        },
        "id": "NmbLSJAkIXcS",
        "outputId": "27c1da85-a9d5-45f1-ba7f-db7c2ffab640"
      },
      "execution_count": 41,
      "outputs": [
        {
          "output_type": "stream",
          "name": "stdout",
          "text": [
            "The iteration no. is 0, which is less than the target value 4\n",
            "The iteration no. is 1, which is less than the target value 4\n",
            "The iteration no. is 2, which is less than the target value 4\n",
            "The iteration no. is 3, which is less than the target value 4\n",
            "The end!\n"
          ]
        }
      ]
    },
    {
      "cell_type": "code",
      "source": [
        "#Example on Nested Loop\n",
        "for i in range(1,6): #This is the Outer Loop\n",
        " for j in range(1,11): #This is the Inner Loop\n",
        "  print(i*j, end=\" \") #This end=\" \" is added to have the output horizontally, if removed it will print vertically.\n",
        "print(\"The end...\")"
      ],
      "metadata": {
        "colab": {
          "base_uri": "https://localhost:8080/"
        },
        "id": "dhlanSpdKKqd",
        "outputId": "9f4f76f0-393d-47cd-ed98-1252c512777c"
      },
      "execution_count": 58,
      "outputs": [
        {
          "output_type": "stream",
          "name": "stdout",
          "text": [
            "1 2 3 4 5 6 7 8 9 10 2 4 6 8 10 12 14 16 18 20 3 6 9 12 15 18 21 24 27 30 4 8 12 16 20 24 28 32 36 40 5 10 15 20 25 30 35 40 45 50 The end...\n"
          ]
        }
      ]
    },
    {
      "cell_type": "code",
      "source": [
        "#Another Example on Nested Loop\n",
        "colours = [\"blue\", \"red\", \"yellow\"]\n",
        "cars = [\"BMW\", \"Mercedes\", \"Range\"]\n",
        "for colour in colours: #Outer Loop\n",
        " for car in cars: #Inner Loop\n",
        "   print(colour, car)\n",
        "print(\"The end....\") "
      ],
      "metadata": {
        "colab": {
          "base_uri": "https://localhost:8080/"
        },
        "id": "DtomPcV-NOwQ",
        "outputId": "a3fa1a4a-6301-475f-e667-df4673ed046e"
      },
      "execution_count": 54,
      "outputs": [
        {
          "output_type": "stream",
          "name": "stdout",
          "text": [
            "blue BMW\n",
            "blue Mercedes\n",
            "blue Range\n",
            "red BMW\n",
            "red Mercedes\n",
            "red Range\n",
            "yellow BMW\n",
            "yellow Mercedes\n",
            "yellow Range\n",
            "The end....\n"
          ]
        }
      ]
    },
    {
      "cell_type": "code",
      "source": [],
      "metadata": {
        "id": "Mr0Ot4U-PGOh"
      },
      "execution_count": null,
      "outputs": []
    }
  ]
}