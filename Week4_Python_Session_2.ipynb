{
  "nbformat": 4,
  "nbformat_minor": 0,
  "metadata": {
    "colab": {
      "provenance": [],
      "authorship_tag": "ABX9TyPYkHVoasjqtm/+2YRzvKaW",
      "include_colab_link": true
    },
    "kernelspec": {
      "name": "python3",
      "display_name": "Python 3"
    },
    "language_info": {
      "name": "python"
    }
  },
  "cells": [
    {
      "cell_type": "markdown",
      "metadata": {
        "id": "view-in-github",
        "colab_type": "text"
      },
      "source": [
        "<a href=\"https://colab.research.google.com/github/Abayrakdar/Testing/blob/main/Week4_Python_Session_2.ipynb\" target=\"_parent\"><img src=\"https://colab.research.google.com/assets/colab-badge.svg\" alt=\"Open In Colab\"/></a>"
      ]
    },
    {
      "cell_type": "code",
      "execution_count": 21,
      "metadata": {
        "colab": {
          "base_uri": "https://localhost:8080/",
          "height": 0
        },
        "id": "00_3pRPC4UqC",
        "outputId": "f7e92cf6-6bab-4418-8622-9e53084e48af"
      },
      "outputs": [
        {
          "output_type": "stream",
          "name": "stdout",
          "text": [
            "[1 2 3]\n",
            "[12]\n"
          ]
        },
        {
          "output_type": "execute_result",
          "data": {
            "text/plain": [
              "(3,)"
            ]
          },
          "metadata": {},
          "execution_count": 21
        }
      ],
      "source": [
        "import numpy as np\n",
        "# How to create Arrays using Numpy, Arrays look like Matrix\n",
        "arr=np.array([1,2,3])\n",
        "print(arr)\n",
        "# To check the dimension of our array:\n",
        "arr_0=np.array([12])\n",
        "print(arr_0) # This a 1 dimensional array is it has 1 row\n",
        "arr_0.ndim # This is to check the dimension of an array, it looks for the number of the rows.\n",
        "arr_0.ndim # .ndim in this example is giving 1 because it contains Only 1 set of bracket.\n",
        "# print(arr_0)\n",
        "arr.shape # This gives the shape as (3,) that is 3 column"
      ]
    },
    {
      "cell_type": "code",
      "source": [
        "# 1 dimension\n",
        "arr1=np.array([1,2,3,4])\n",
        "print(arr1)\n",
        "arr1.shape # This tells us the shape is 4 that is 4 columns"
      ],
      "metadata": {
        "colab": {
          "base_uri": "https://localhost:8080/",
          "height": 0
        },
        "id": "TlEuda9U69TG",
        "outputId": "23ea6392-1e86-4816-ec1c-595cf91382b5"
      },
      "execution_count": 22,
      "outputs": [
        {
          "output_type": "stream",
          "name": "stdout",
          "text": [
            "[1 2 3 4]\n"
          ]
        },
        {
          "output_type": "execute_result",
          "data": {
            "text/plain": [
              "(4,)"
            ]
          },
          "metadata": {},
          "execution_count": 22
        }
      ]
    },
    {
      "cell_type": "code",
      "source": [
        "arr2=np.array([[1,2,3,4],[4,5,6,7]])\n",
        "print(arr2)\n",
        "arr2.shape # Here shape is saying that we have 2 columns and 4 elements in each"
      ],
      "metadata": {
        "colab": {
          "base_uri": "https://localhost:8080/",
          "height": 0
        },
        "id": "4Rxr-rCz7WOO",
        "outputId": "b033564c-6a46-4206-d072-5397ab5f19d7"
      },
      "execution_count": 23,
      "outputs": [
        {
          "output_type": "stream",
          "name": "stdout",
          "text": [
            "[[1 2 3 4]\n",
            " [4 5 6 7]]\n"
          ]
        },
        {
          "output_type": "execute_result",
          "data": {
            "text/plain": [
              "(2, 4)"
            ]
          },
          "metadata": {},
          "execution_count": 23
        }
      ]
    },
    {
      "cell_type": "code",
      "source": [
        "arr3=np.array([[1,2,3,4],[5,6,7,8],[9,10,11,12],[13,14,15,16]])\n",
        "print(arr3)\n",
        "arr3.ndim # .ndim gives you the number of brackets only, so if you add none-needed brackets .ndim will increase\n",
        "# This is why arr3.ndim is giving 2 in this example.\n",
        "arr3.shape # shape is saying that we have 4 columns and 4 elements in each.\n",
        "# Shape tells you what elements you have the number of columns and number of rows."
      ],
      "metadata": {
        "colab": {
          "base_uri": "https://localhost:8080/",
          "height": 0
        },
        "id": "EnO2Nj2V7mVh",
        "outputId": "4d34944a-c1ce-46ed-bc12-d7fcc398f8d5"
      },
      "execution_count": 24,
      "outputs": [
        {
          "output_type": "stream",
          "name": "stdout",
          "text": [
            "[[ 1  2  3  4]\n",
            " [ 5  6  7  8]\n",
            " [ 9 10 11 12]\n",
            " [13 14 15 16]]\n"
          ]
        },
        {
          "output_type": "execute_result",
          "data": {
            "text/plain": [
              "(4, 4)"
            ]
          },
          "metadata": {},
          "execution_count": 24
        }
      ]
    },
    {
      "cell_type": "code",
      "source": [
        "arr4=np.array([[1,2,3,4],[5,6,7,8],[9,10,11,12],[13,14,15,16],[17,18,19,20]])\n",
        "print(arr4)\n",
        "arr4.ndim\n",
        "arr4.shape # shape is saying that we have 5 columns and 4 rows (Rows are sublists)"
      ],
      "metadata": {
        "colab": {
          "base_uri": "https://localhost:8080/",
          "height": 0
        },
        "id": "VdBrHVQdAErG",
        "outputId": "5c41b963-164b-49b5-b0d0-9a2328a9b51a"
      },
      "execution_count": 25,
      "outputs": [
        {
          "output_type": "stream",
          "name": "stdout",
          "text": [
            "[[ 1  2  3  4]\n",
            " [ 5  6  7  8]\n",
            " [ 9 10 11 12]\n",
            " [13 14 15 16]\n",
            " [17 18 19 20]]\n"
          ]
        },
        {
          "output_type": "execute_result",
          "data": {
            "text/plain": [
              "(5, 4)"
            ]
          },
          "metadata": {},
          "execution_count": 25
        }
      ]
    },
    {
      "cell_type": "code",
      "source": [
        "np.zeros(10)"
      ],
      "metadata": {
        "colab": {
          "base_uri": "https://localhost:8080/",
          "height": 0
        },
        "id": "kDQ4XL4FEvXb",
        "outputId": "01bab534-2295-4e18-8d6c-54f3c156ab6d"
      },
      "execution_count": 30,
      "outputs": [
        {
          "output_type": "execute_result",
          "data": {
            "text/plain": [
              "array([0., 0., 0., 0., 0., 0., 0., 0., 0., 0.])"
            ]
          },
          "metadata": {},
          "execution_count": 30
        }
      ]
    },
    {
      "cell_type": "code",
      "source": [
        "np.ones(5)"
      ],
      "metadata": {
        "colab": {
          "base_uri": "https://localhost:8080/",
          "height": 0
        },
        "id": "lK16MQsgFDKe",
        "outputId": "f70eba58-4dd6-4ef6-9f1f-8d02f5c4c067"
      },
      "execution_count": 31,
      "outputs": [
        {
          "output_type": "execute_result",
          "data": {
            "text/plain": [
              "array([1., 1., 1., 1., 1.])"
            ]
          },
          "metadata": {},
          "execution_count": 31
        }
      ]
    },
    {
      "cell_type": "code",
      "source": [
        "np.random.rand(4)"
      ],
      "metadata": {
        "colab": {
          "base_uri": "https://localhost:8080/",
          "height": 0
        },
        "id": "0az-oQEaFHjy",
        "outputId": "74ebb582-1d91-4634-d08f-80a41724b83d"
      },
      "execution_count": 33,
      "outputs": [
        {
          "output_type": "execute_result",
          "data": {
            "text/plain": [
              "array([0.90182342, 0.45548607, 0.91752702, 0.88346487])"
            ]
          },
          "metadata": {},
          "execution_count": 33
        }
      ]
    },
    {
      "cell_type": "code",
      "source": [
        "np.arange(10,25,20)"
      ],
      "metadata": {
        "colab": {
          "base_uri": "https://localhost:8080/",
          "height": 0
        },
        "id": "5v4_sgklFOZs",
        "outputId": "5cd1e906-6f3e-4686-8289-e40f3804fbc3"
      },
      "execution_count": 35,
      "outputs": [
        {
          "output_type": "execute_result",
          "data": {
            "text/plain": [
              "array([10])"
            ]
          },
          "metadata": {},
          "execution_count": 35
        }
      ]
    },
    {
      "cell_type": "code",
      "source": [
        "arr6=np.array([[[1,2,3,4],[4,5,6,7]],[[8,9,10,11],[12,13,14,15]]])\n",
        "print(arr6)\n",
        "arr6.shape # Note here what shape has given 2 major columns in each 2 other columns in each first columns and 2 rows in each columns."
      ],
      "metadata": {
        "colab": {
          "base_uri": "https://localhost:8080/",
          "height": 0
        },
        "id": "2pJjhs61FmGC",
        "outputId": "6bab5ec6-61ec-4120-a078-4c896bae0ee0"
      },
      "execution_count": 36,
      "outputs": [
        {
          "output_type": "stream",
          "name": "stdout",
          "text": [
            "[[[ 1  2  3  4]\n",
            "  [ 4  5  6  7]]\n",
            "\n",
            " [[ 8  9 10 11]\n",
            "  [12 13 14 15]]]\n"
          ]
        },
        {
          "output_type": "execute_result",
          "data": {
            "text/plain": [
              "(2, 2, 4)"
            ]
          },
          "metadata": {},
          "execution_count": 36
        }
      ]
    },
    {
      "cell_type": "code",
      "source": [
        "# Transposing a Matrix\n",
        "data_2=np.array([[0,1,2],[3,4,5]])\n",
        "print(data_2)\n",
        "data_2.shape"
      ],
      "metadata": {
        "colab": {
          "base_uri": "https://localhost:8080/",
          "height": 0
        },
        "id": "t9_Gl7f4GJe-",
        "outputId": "0bab1df1-65f4-4f59-a824-3277ce359230"
      },
      "execution_count": 41,
      "outputs": [
        {
          "output_type": "stream",
          "name": "stdout",
          "text": [
            "[[0 1 2]\n",
            " [3 4 5]]\n"
          ]
        },
        {
          "output_type": "execute_result",
          "data": {
            "text/plain": [
              "(2, 3)"
            ]
          },
          "metadata": {},
          "execution_count": 41
        }
      ]
    },
    {
      "cell_type": "code",
      "source": [
        "np.transpose(data_2) # it gives me 2 rows and 3 columns when transposing"
      ],
      "metadata": {
        "colab": {
          "base_uri": "https://localhost:8080/",
          "height": 0
        },
        "id": "anZBfYkvGzAS",
        "outputId": "7d464d7f-412b-4f17-ed7f-96eb47718d4b"
      },
      "execution_count": 44,
      "outputs": [
        {
          "output_type": "execute_result",
          "data": {
            "text/plain": [
              "array([[0, 3],\n",
              "       [1, 4],\n",
              "       [2, 5]])"
            ]
          },
          "metadata": {},
          "execution_count": 44
        }
      ]
    },
    {
      "cell_type": "code",
      "source": [
        "data=np.array(\n",
        "    [[\n",
        "        [12,67],\n",
        "      [35,90]\n",
        "      ],\n",
        "      [\n",
        "          [12,3],\n",
        "       [8,27]\n",
        "      ]])\n",
        "data\n"
      ],
      "metadata": {
        "colab": {
          "base_uri": "https://localhost:8080/",
          "height": 0
        },
        "id": "YvAxS4GQHbFD",
        "outputId": "2913ef09-8b57-4935-aabb-d48933aa9e30"
      },
      "execution_count": 49,
      "outputs": [
        {
          "output_type": "execute_result",
          "data": {
            "text/plain": [
              "array([[[12, 67],\n",
              "        [35, 90]],\n",
              "\n",
              "       [[12,  3],\n",
              "        [ 8, 27]]])"
            ]
          },
          "metadata": {},
          "execution_count": 49
        }
      ]
    },
    {
      "cell_type": "code",
      "source": [
        "data.shape"
      ],
      "metadata": {
        "colab": {
          "base_uri": "https://localhost:8080/",
          "height": 0
        },
        "id": "EOInOo7DIWii",
        "outputId": "592e1ec2-ca33-4255-f1b4-89828b6982f5"
      },
      "execution_count": 50,
      "outputs": [
        {
          "output_type": "execute_result",
          "data": {
            "text/plain": [
              "(2, 2, 2)"
            ]
          },
          "metadata": {},
          "execution_count": 50
        }
      ]
    },
    {
      "cell_type": "code",
      "source": [
        "data.reshape(2,4) # Do not confuse reshape with Transpose, reshape does it to what you specify not by flipping number of columns to rows and vice versa."
      ],
      "metadata": {
        "colab": {
          "base_uri": "https://localhost:8080/",
          "height": 0
        },
        "id": "a9bB6m5WIZCy",
        "outputId": "0b92aaa3-3c69-4e5a-c993-d1f4bd3fc459"
      },
      "execution_count": 52,
      "outputs": [
        {
          "output_type": "execute_result",
          "data": {
            "text/plain": [
              "array([[12, 67, 35, 90],\n",
              "       [12,  3,  8, 27]])"
            ]
          },
          "metadata": {},
          "execution_count": 52
        }
      ]
    },
    {
      "cell_type": "code",
      "source": [
        "np.arange(0,11,2)  # This is telling np to make a range from 0 to 11 with a jump of 2.\n"
      ],
      "metadata": {
        "colab": {
          "base_uri": "https://localhost:8080/",
          "height": 0
        },
        "id": "S4lS6iyzI8KA",
        "outputId": "50354dce-35e8-4039-82a4-d8589f47f974"
      },
      "execution_count": 54,
      "outputs": [
        {
          "output_type": "execute_result",
          "data": {
            "text/plain": [
              "array([ 0,  2,  4,  6,  8, 10])"
            ]
          },
          "metadata": {},
          "execution_count": 54
        }
      ]
    },
    {
      "cell_type": "code",
      "source": [
        "# Index\n",
        "arr_index=np.arange(0,11)\n",
        "print(arr_index)"
      ],
      "metadata": {
        "colab": {
          "base_uri": "https://localhost:8080/",
          "height": 0
        },
        "id": "xoJMzuSmJSBy",
        "outputId": "2987ea3d-72fb-47f7-e7ba-9dec5ab67b16"
      },
      "execution_count": 55,
      "outputs": [
        {
          "output_type": "stream",
          "name": "stdout",
          "text": [
            "[ 0  1  2  3  4  5  6  7  8  9 10]\n"
          ]
        }
      ]
    },
    {
      "cell_type": "code",
      "source": [
        "print(arr_index[1]) # Index usually starts from 0 but when we asked it to show index it will show the content of index pointing at position 1\n"
      ],
      "metadata": {
        "colab": {
          "base_uri": "https://localhost:8080/",
          "height": 0
        },
        "id": "QPRfE1jXNL3V",
        "outputId": "4fefdfd5-d751-433b-c884-d5e9fa1e9231"
      },
      "execution_count": 57,
      "outputs": [
        {
          "output_type": "stream",
          "name": "stdout",
          "text": [
            "1\n"
          ]
        }
      ]
    },
    {
      "cell_type": "code",
      "source": [
        "arr_2_index=np.array([[1,2,3],[4,5,6],[7,8,9]])\n",
        "print(arr_2_index)\n",
        "print(arr_2_index[2][0]) # Here index shows index 2 outer then index 0 inside the specified 2.\n",
        "print(arr_2_index[1][1]) # Here index shows index 1 outer then index 1 inside the specified 1 position. Indexes always starts from 0.\n"
      ],
      "metadata": {
        "colab": {
          "base_uri": "https://localhost:8080/",
          "height": 0
        },
        "id": "d5qNaCgWNcF4",
        "outputId": "603c1790-692b-4935-d146-1a24ccc8fc5f"
      },
      "execution_count": 60,
      "outputs": [
        {
          "output_type": "stream",
          "name": "stdout",
          "text": [
            "[[1 2 3]\n",
            " [4 5 6]\n",
            " [7 8 9]]\n",
            "7\n",
            "5\n"
          ]
        }
      ]
    },
    {
      "cell_type": "code",
      "source": [
        "# Now to change a certain value inside an array\n",
        "arr_2_index[1][1]=12\n",
        "print(arr_2_index) # Notice here the value changed from 5 to 12, because index 1 is teh second location in the array and 1 is again teh second position within the first one.\n"
      ],
      "metadata": {
        "colab": {
          "base_uri": "https://localhost:8080/",
          "height": 0
        },
        "id": "s3D7qs0-OsEM",
        "outputId": "6371270e-be1d-4d31-ed1a-d8647a540ae1"
      },
      "execution_count": 61,
      "outputs": [
        {
          "output_type": "stream",
          "name": "stdout",
          "text": [
            "[[ 1  2  3]\n",
            " [ 4 12  6]\n",
            " [ 7  8  9]]\n"
          ]
        }
      ]
    },
    {
      "cell_type": "code",
      "source": [
        "arr_2_index[1]=[3,12,9] # This is to replace the whole range in index position 1 which is in the second location.\n",
        "print(arr_2_index)"
      ],
      "metadata": {
        "colab": {
          "base_uri": "https://localhost:8080/",
          "height": 0
        },
        "id": "2MKYIbddPMp2",
        "outputId": "9e9fe5ce-ba04-4a1c-8a66-2119437bd5a9"
      },
      "execution_count": 63,
      "outputs": [
        {
          "output_type": "stream",
          "name": "stdout",
          "text": [
            "[[ 1  2  3]\n",
            " [ 3 12  9]\n",
            " [ 7  8  9]]\n"
          ]
        }
      ]
    },
    {
      "cell_type": "code",
      "source": [
        "arr_2_index[:1]=[5,4,7]\n",
        "print(arr_2_index)"
      ],
      "metadata": {
        "colab": {
          "base_uri": "https://localhost:8080/",
          "height": 0
        },
        "id": "ct-yoPdLQFaj",
        "outputId": "1a049c62-62bd-4473-b0d7-7612faf55549"
      },
      "execution_count": 70,
      "outputs": [
        {
          "output_type": "stream",
          "name": "stdout",
          "text": [
            "[[ 5  4  7]\n",
            " [ 3 12  9]\n",
            " [ 7  8  9]]\n"
          ]
        }
      ]
    },
    {
      "cell_type": "code",
      "source": [
        "arr=np.array([[1,23,78],[98,60,75],[79,25,48]])\n",
        "print(arr)"
      ],
      "metadata": {
        "colab": {
          "base_uri": "https://localhost:8080/",
          "height": 0
        },
        "id": "5l_MDAP_Rf_E",
        "outputId": "5528c148-dc82-41bc-f8d0-f84b949f67ae"
      },
      "execution_count": 71,
      "outputs": [
        {
          "output_type": "stream",
          "name": "stdout",
          "text": [
            "[[ 1 23 78]\n",
            " [98 60 75]\n",
            " [79 25 48]]\n"
          ]
        }
      ]
    },
    {
      "cell_type": "code",
      "source": [
        "print(np.amax(arr)) # This shows the max value in an array\n",
        "print(np.amin(arr)) # This shows the min value in an array\n",
        "arr_mean=np.array([24,89,45])\n",
        "print(np.mean(arr_mean)) # This shows the mean value of the new array.\n",
        "print(np.median(arr_mean)) # Shows the median"
      ],
      "metadata": {
        "colab": {
          "base_uri": "https://localhost:8080/",
          "height": 0
        },
        "id": "ek8pbfYCSDGm",
        "outputId": "5dc8824a-aa0d-4d60-e6c9-144095281bc6"
      },
      "execution_count": 74,
      "outputs": [
        {
          "output_type": "stream",
          "name": "stdout",
          "text": [
            "98\n",
            "1\n",
            "52.666666666666664\n",
            "45.0\n"
          ]
        }
      ]
    },
    {
      "cell_type": "code",
      "source": [
        "arr1=np.array([[1,23,78],[98,60,75]])\n",
        "print(arr1)"
      ],
      "metadata": {
        "colab": {
          "base_uri": "https://localhost:8080/",
          "height": 0
        },
        "id": "prfE8SDUTHzL",
        "outputId": "2ccd0df5-7d12-47e4-e4b7-52c8d7a9aa17"
      },
      "execution_count": 75,
      "outputs": [
        {
          "output_type": "stream",
          "name": "stdout",
          "text": [
            "[[ 1 23 78]\n",
            " [98 60 75]]\n"
          ]
        }
      ]
    },
    {
      "cell_type": "code",
      "source": [
        "# Median\n",
        "print(np.median(arr1)) # Median is the middle value in an arranged range from smallest to largest or the opposite."
      ],
      "metadata": {
        "colab": {
          "base_uri": "https://localhost:8080/",
          "height": 0
        },
        "id": "B8lJuPo2TU1o",
        "outputId": "13469191-1ebd-4c62-e835-2a34c5218d62"
      },
      "execution_count": 76,
      "outputs": [
        {
          "output_type": "stream",
          "name": "stdout",
          "text": [
            "67.5\n"
          ]
        }
      ]
    },
    {
      "cell_type": "code",
      "source": [
        "# Standard Deviation is the stand from the Mean\n",
        "arr_std=np.array([24,89,45])\n",
        "print(arr_std)\n",
        "print(np.std(arr_std))"
      ],
      "metadata": {
        "colab": {
          "base_uri": "https://localhost:8080/",
          "height": 0
        },
        "id": "z0TBDsNiTxDv",
        "outputId": "6ed85c09-eea0-4793-c98f-1488ca6a1f67"
      },
      "execution_count": 78,
      "outputs": [
        {
          "output_type": "stream",
          "name": "stdout",
          "text": [
            "[24 89 45]\n",
            "27.0842307543625\n"
          ]
        }
      ]
    },
    {
      "cell_type": "code",
      "source": [
        "# Standard Deviation is the measure of dispersion from the mean, the variancy, subtract each value from the mean and square it so that we do not get any negative value and then we root it to get the absolute value of it.\n",
        "print(np.var(arr_std))"
      ],
      "metadata": {
        "colab": {
          "base_uri": "https://localhost:8080/",
          "height": 0
        },
        "id": "J79lEIy-UjeI",
        "outputId": "3e911529-949a-49ac-be99-4564bb6f2a81"
      },
      "execution_count": 79,
      "outputs": [
        {
          "output_type": "stream",
          "name": "stdout",
          "text": [
            "733.5555555555555\n"
          ]
        }
      ]
    },
    {
      "cell_type": "code",
      "source": [
        "# Std Deviation is the square of variance and is the measure\n",
        "# of the dispersion of value in a data set and\n",
        "# is used to determine the distance of the data from the mean, that is how the values\n",
        "# are spread from the mean.\n",
        "\n"
      ],
      "metadata": {
        "id": "ckLYnm4VU_2o"
      },
      "execution_count": null,
      "outputs": []
    },
    {
      "cell_type": "code",
      "source": [
        "# Using boolean to check if there are values greater than 0\n",
        "arr_bool=np.array([[-1,2,3],\n",
        "                   [4,5,-6],\n",
        "                   [7,-8,9]])\n",
        "print(arr_bool)\n",
        "arrbool=(arr_bool>0) \n",
        "print(arrbool)"
      ],
      "metadata": {
        "colab": {
          "base_uri": "https://localhost:8080/",
          "height": 0
        },
        "id": "HxicKE2-V8PZ",
        "outputId": "26759c34-6f2f-4ef6-d2f7-b3a00e1a6ed4"
      },
      "execution_count": 81,
      "outputs": [
        {
          "output_type": "stream",
          "name": "stdout",
          "text": [
            "[[-1  2  3]\n",
            " [ 4  5 -6]\n",
            " [ 7 -8  9]]\n",
            "[[False  True  True]\n",
            " [ True  True False]\n",
            " [ True False  True]]\n"
          ]
        }
      ]
    },
    {
      "cell_type": "code",
      "source": [
        "# This check is used to eventually remove all negative values\n",
        "arrbool=(arr_bool<0) \n",
        "print(arrbool)"
      ],
      "metadata": {
        "colab": {
          "base_uri": "https://localhost:8080/",
          "height": 0
        },
        "id": "u_-hQ9UOXBDH",
        "outputId": "3a0a3c05-7d30-4a50-f317-ffff3f235a79"
      },
      "execution_count": 82,
      "outputs": [
        {
          "output_type": "stream",
          "name": "stdout",
          "text": [
            "[[ True False False]\n",
            " [False False  True]\n",
            " [False  True False]]\n"
          ]
        }
      ]
    },
    {
      "cell_type": "code",
      "source": [
        "arr_bool[arr_bool<0]=0 # Here we replace negative with 0\n",
        "print(arr_bool)"
      ],
      "metadata": {
        "colab": {
          "base_uri": "https://localhost:8080/",
          "height": 0
        },
        "id": "9h8eglPXXMdD",
        "outputId": "ca49274e-eb0f-48f6-a344-383c7f057f9a"
      },
      "execution_count": 83,
      "outputs": [
        {
          "output_type": "stream",
          "name": "stdout",
          "text": [
            "[[0 2 3]\n",
            " [4 5 0]\n",
            " [7 0 9]]\n"
          ]
        }
      ]
    },
    {
      "cell_type": "code",
      "source": [
        "arrbool.any() # Any positive?"
      ],
      "metadata": {
        "colab": {
          "base_uri": "https://localhost:8080/",
          "height": 0
        },
        "id": "EgTsC5MQXgic",
        "outputId": "6ca6bbcd-252c-4828-e90d-773f5effc4cc"
      },
      "execution_count": 90,
      "outputs": [
        {
          "output_type": "execute_result",
          "data": {
            "text/plain": [
              "True"
            ]
          },
          "metadata": {},
          "execution_count": 90
        }
      ]
    },
    {
      "cell_type": "code",
      "source": [
        "arrbool.all() # Check if all are positive"
      ],
      "metadata": {
        "colab": {
          "base_uri": "https://localhost:8080/",
          "height": 0
        },
        "id": "TjOJJKEwXkWF",
        "outputId": "5cabbc92-8d5c-4e75-dcde-a024c12e413b"
      },
      "execution_count": 89,
      "outputs": [
        {
          "output_type": "execute_result",
          "data": {
            "text/plain": [
              "False"
            ]
          },
          "metadata": {},
          "execution_count": 89
        }
      ]
    },
    {
      "cell_type": "code",
      "source": [
        "arr_bool=np.array([[-1,2,3],\n",
        "                   [4,5,-6],\n",
        "                   [7,-8,9]])\n",
        "arr_bool.all() #Mercy said that 'all' checks if all negative but it is giving a wrong answer, need to check the manual.\n"
      ],
      "metadata": {
        "colab": {
          "base_uri": "https://localhost:8080/",
          "height": 0
        },
        "id": "CJeMLLDoYHHL",
        "outputId": "c0b24c99-ac9f-4f7a-a605-1f73990faeb9"
      },
      "execution_count": 92,
      "outputs": [
        {
          "output_type": "execute_result",
          "data": {
            "text/plain": [
              "True"
            ]
          },
          "metadata": {},
          "execution_count": 92
        }
      ]
    },
    {
      "cell_type": "code",
      "source": [
        "# Sorting and Unique\n",
        "arr_sort=np.random.randn(5)\n",
        "print(arr_sort)\n"
      ],
      "metadata": {
        "colab": {
          "base_uri": "https://localhost:8080/",
          "height": 0
        },
        "id": "ok_ds3ETZrBo",
        "outputId": "40493918-a9e5-459e-ad69-8497a0248e6d"
      },
      "execution_count": 94,
      "outputs": [
        {
          "output_type": "stream",
          "name": "stdout",
          "text": [
            "[-0.38289485  0.7330939  -1.00945712  0.91033905  2.89981205]\n"
          ]
        }
      ]
    },
    {
      "cell_type": "code",
      "source": [
        "arr_sort.sort() # This .sort is the sorting command to sort the values generated by teh random values.\n",
        "print(arr_sort)"
      ],
      "metadata": {
        "colab": {
          "base_uri": "https://localhost:8080/",
          "height": 0
        },
        "id": "80mYPJFmaQxC",
        "outputId": "360f8dbf-9340-46e1-f0b6-83876397107f"
      },
      "execution_count": 96,
      "outputs": [
        {
          "output_type": "stream",
          "name": "stdout",
          "text": [
            "[-1.00945712 -0.38289485  0.7330939   0.91033905  2.89981205]\n"
          ]
        }
      ]
    },
    {
      "cell_type": "code",
      "source": [
        "arr_names=[\"John\",\"Bob\",\"Adam\",\"Bob\",\"John\",\"John\"] # To produce the unique.\n",
        "np.unique(arr_names)"
      ],
      "metadata": {
        "colab": {
          "base_uri": "https://localhost:8080/",
          "height": 0
        },
        "id": "niOgsikRatE3",
        "outputId": "3f9ab28c-b4d5-4bfe-a295-8176c1090e67"
      },
      "execution_count": 97,
      "outputs": [
        {
          "output_type": "execute_result",
          "data": {
            "text/plain": [
              "array(['Adam', 'Bob', 'John'], dtype='<U4')"
            ]
          },
          "metadata": {},
          "execution_count": 97
        }
      ]
    },
    {
      "cell_type": "code",
      "source": [
        "# A series is a One dimensional array\n",
        "import pandas as pd\n",
        "# A panda series is capable of holding different values of different data types.\n",
        "# Series\n",
        "arr=np.array([\"Adam\",\"Bob\",\"John\"])\n",
        "arr\n",
        "print(arr)\n",
        "ser=pd.Series(arr) # By this we have changed the array into a series\n",
        "pd.Series(arr)"
      ],
      "metadata": {
        "colab": {
          "base_uri": "https://localhost:8080/",
          "height": 0
        },
        "id": "8u0L1dHdbC5n",
        "outputId": "55beb44a-bae6-4c19-876a-d5abc496ba13"
      },
      "execution_count": 101,
      "outputs": [
        {
          "output_type": "stream",
          "name": "stdout",
          "text": [
            "['Adam' 'Bob' 'John']\n"
          ]
        },
        {
          "output_type": "execute_result",
          "data": {
            "text/plain": [
              "0    Adam\n",
              "1     Bob\n",
              "2    John\n",
              "dtype: object"
            ]
          },
          "metadata": {},
          "execution_count": 101
        }
      ]
    },
    {
      "cell_type": "code",
      "source": [
        "ser1=pd.Series(arr,index=[\"a\",\"b\",\"j\"]) # Here we can change the index from numeric to alpha only in series but not in arrays\n",
        "# So instead of using index 0,1,2,3 we changed it to a,b, and j\n",
        "print(ser1)"
      ],
      "metadata": {
        "colab": {
          "base_uri": "https://localhost:8080/",
          "height": 0
        },
        "id": "l-OWWPC_fiP0",
        "outputId": "e0349176-2ecf-4325-84ca-84ba6acb58af"
      },
      "execution_count": 105,
      "outputs": [
        {
          "output_type": "stream",
          "name": "stdout",
          "text": [
            "a    Adam\n",
            "b     Bob\n",
            "j    John\n",
            "dtype: object\n"
          ]
        }
      ]
    },
    {
      "cell_type": "code",
      "source": [
        "ser1[\"a\"] \n"
      ],
      "metadata": {
        "colab": {
          "base_uri": "https://localhost:8080/",
          "height": 36
        },
        "id": "GnBVy98zgp6I",
        "outputId": "f9ebf093-2854-4e8d-e393-2de704e013af"
      },
      "execution_count": 108,
      "outputs": [
        {
          "output_type": "execute_result",
          "data": {
            "text/plain": [
              "'Adam'"
            ],
            "application/vnd.google.colaboratory.intrinsic+json": {
              "type": "string"
            }
          },
          "metadata": {},
          "execution_count": 108
        }
      ]
    },
    {
      "cell_type": "code",
      "source": [
        "# also you can still use the normal indexing even after changing them\n",
        "ser1[2]"
      ],
      "metadata": {
        "colab": {
          "base_uri": "https://localhost:8080/",
          "height": 36
        },
        "id": "D_bgS_a5hIMz",
        "outputId": "c5061d9e-356c-48ae-f31e-01f41af9d9b3"
      },
      "execution_count": 109,
      "outputs": [
        {
          "output_type": "execute_result",
          "data": {
            "text/plain": [
              "'John'"
            ],
            "application/vnd.google.colaboratory.intrinsic+json": {
              "type": "string"
            }
          },
          "metadata": {},
          "execution_count": 109
        }
      ]
    },
    {
      "cell_type": "code",
      "source": [
        "ser1[\"a\":\"j\"] # asking it to list teh reange from \"a\" to \"j\""
      ],
      "metadata": {
        "colab": {
          "base_uri": "https://localhost:8080/",
          "height": 0
        },
        "id": "bia8r5JphN3p",
        "outputId": "13442c0f-57e6-45b6-882f-6ca2e526cf98"
      },
      "execution_count": 110,
      "outputs": [
        {
          "output_type": "execute_result",
          "data": {
            "text/plain": [
              "a    Adam\n",
              "b     Bob\n",
              "j    John\n",
              "dtype: object"
            ]
          },
          "metadata": {},
          "execution_count": 110
        }
      ]
    },
    {
      "cell_type": "code",
      "source": [
        "#create dataframes #DataFrame\n",
        "data=pd.DataFrame({\"Names\":[\"Adam\",\"Bob\",\"John\",\"Mike\",\"Sara\"],\n",
        "                   \"Occupation\":[\"Clerical\",\"Management\",\"Professional\",\"Skilled Manual\",\"Professional\"]})\n",
        "data"
      ],
      "metadata": {
        "colab": {
          "base_uri": "https://localhost:8080/",
          "height": 206
        },
        "id": "TvsaGpi_hXS3",
        "outputId": "73790cf6-0d81-4bcb-b1b6-9d49baf41717"
      },
      "execution_count": 112,
      "outputs": [
        {
          "output_type": "execute_result",
          "data": {
            "text/plain": [
              "  Names      Occupation\n",
              "0  Adam        Clerical\n",
              "1   Bob      Management\n",
              "2  John    Professional\n",
              "3  Mike  Skilled Manual\n",
              "4  Sara    Professional"
            ],
            "text/html": [
              "\n",
              "  <div id=\"df-93096b08-3c82-4477-9edb-5440574a34ad\">\n",
              "    <div class=\"colab-df-container\">\n",
              "      <div>\n",
              "<style scoped>\n",
              "    .dataframe tbody tr th:only-of-type {\n",
              "        vertical-align: middle;\n",
              "    }\n",
              "\n",
              "    .dataframe tbody tr th {\n",
              "        vertical-align: top;\n",
              "    }\n",
              "\n",
              "    .dataframe thead th {\n",
              "        text-align: right;\n",
              "    }\n",
              "</style>\n",
              "<table border=\"1\" class=\"dataframe\">\n",
              "  <thead>\n",
              "    <tr style=\"text-align: right;\">\n",
              "      <th></th>\n",
              "      <th>Names</th>\n",
              "      <th>Occupation</th>\n",
              "    </tr>\n",
              "  </thead>\n",
              "  <tbody>\n",
              "    <tr>\n",
              "      <th>0</th>\n",
              "      <td>Adam</td>\n",
              "      <td>Clerical</td>\n",
              "    </tr>\n",
              "    <tr>\n",
              "      <th>1</th>\n",
              "      <td>Bob</td>\n",
              "      <td>Management</td>\n",
              "    </tr>\n",
              "    <tr>\n",
              "      <th>2</th>\n",
              "      <td>John</td>\n",
              "      <td>Professional</td>\n",
              "    </tr>\n",
              "    <tr>\n",
              "      <th>3</th>\n",
              "      <td>Mike</td>\n",
              "      <td>Skilled Manual</td>\n",
              "    </tr>\n",
              "    <tr>\n",
              "      <th>4</th>\n",
              "      <td>Sara</td>\n",
              "      <td>Professional</td>\n",
              "    </tr>\n",
              "  </tbody>\n",
              "</table>\n",
              "</div>\n",
              "      <button class=\"colab-df-convert\" onclick=\"convertToInteractive('df-93096b08-3c82-4477-9edb-5440574a34ad')\"\n",
              "              title=\"Convert this dataframe to an interactive table.\"\n",
              "              style=\"display:none;\">\n",
              "        \n",
              "  <svg xmlns=\"http://www.w3.org/2000/svg\" height=\"24px\"viewBox=\"0 0 24 24\"\n",
              "       width=\"24px\">\n",
              "    <path d=\"M0 0h24v24H0V0z\" fill=\"none\"/>\n",
              "    <path d=\"M18.56 5.44l.94 2.06.94-2.06 2.06-.94-2.06-.94-.94-2.06-.94 2.06-2.06.94zm-11 1L8.5 8.5l.94-2.06 2.06-.94-2.06-.94L8.5 2.5l-.94 2.06-2.06.94zm10 10l.94 2.06.94-2.06 2.06-.94-2.06-.94-.94-2.06-.94 2.06-2.06.94z\"/><path d=\"M17.41 7.96l-1.37-1.37c-.4-.4-.92-.59-1.43-.59-.52 0-1.04.2-1.43.59L10.3 9.45l-7.72 7.72c-.78.78-.78 2.05 0 2.83L4 21.41c.39.39.9.59 1.41.59.51 0 1.02-.2 1.41-.59l7.78-7.78 2.81-2.81c.8-.78.8-2.07 0-2.86zM5.41 20L4 18.59l7.72-7.72 1.47 1.35L5.41 20z\"/>\n",
              "  </svg>\n",
              "      </button>\n",
              "      \n",
              "  <style>\n",
              "    .colab-df-container {\n",
              "      display:flex;\n",
              "      flex-wrap:wrap;\n",
              "      gap: 12px;\n",
              "    }\n",
              "\n",
              "    .colab-df-convert {\n",
              "      background-color: #E8F0FE;\n",
              "      border: none;\n",
              "      border-radius: 50%;\n",
              "      cursor: pointer;\n",
              "      display: none;\n",
              "      fill: #1967D2;\n",
              "      height: 32px;\n",
              "      padding: 0 0 0 0;\n",
              "      width: 32px;\n",
              "    }\n",
              "\n",
              "    .colab-df-convert:hover {\n",
              "      background-color: #E2EBFA;\n",
              "      box-shadow: 0px 1px 2px rgba(60, 64, 67, 0.3), 0px 1px 3px 1px rgba(60, 64, 67, 0.15);\n",
              "      fill: #174EA6;\n",
              "    }\n",
              "\n",
              "    [theme=dark] .colab-df-convert {\n",
              "      background-color: #3B4455;\n",
              "      fill: #D2E3FC;\n",
              "    }\n",
              "\n",
              "    [theme=dark] .colab-df-convert:hover {\n",
              "      background-color: #434B5C;\n",
              "      box-shadow: 0px 1px 3px 1px rgba(0, 0, 0, 0.15);\n",
              "      filter: drop-shadow(0px 1px 2px rgba(0, 0, 0, 0.3));\n",
              "      fill: #FFFFFF;\n",
              "    }\n",
              "  </style>\n",
              "\n",
              "      <script>\n",
              "        const buttonEl =\n",
              "          document.querySelector('#df-93096b08-3c82-4477-9edb-5440574a34ad button.colab-df-convert');\n",
              "        buttonEl.style.display =\n",
              "          google.colab.kernel.accessAllowed ? 'block' : 'none';\n",
              "\n",
              "        async function convertToInteractive(key) {\n",
              "          const element = document.querySelector('#df-93096b08-3c82-4477-9edb-5440574a34ad');\n",
              "          const dataTable =\n",
              "            await google.colab.kernel.invokeFunction('convertToInteractive',\n",
              "                                                     [key], {});\n",
              "          if (!dataTable) return;\n",
              "\n",
              "          const docLinkHtml = 'Like what you see? Visit the ' +\n",
              "            '<a target=\"_blank\" href=https://colab.research.google.com/notebooks/data_table.ipynb>data table notebook</a>'\n",
              "            + ' to learn more about interactive tables.';\n",
              "          element.innerHTML = '';\n",
              "          dataTable['output_type'] = 'display_data';\n",
              "          await google.colab.output.renderOutput(dataTable, element);\n",
              "          const docLink = document.createElement('div');\n",
              "          docLink.innerHTML = docLinkHtml;\n",
              "          element.appendChild(docLink);\n",
              "        }\n",
              "      </script>\n",
              "    </div>\n",
              "  </div>\n",
              "  "
            ]
          },
          "metadata": {},
          "execution_count": 112
        }
      ]
    },
    {
      "cell_type": "code",
      "source": [
        "# Regression is used to find if there is any relationship between two variables like to see if there is one\n",
        "# between Health and Income, in Maching Learning is used to produce statistical answers.\n",
        "import matplotlib.pyplot as plt\n",
        "x=[5,7,8,7,2,17,2,9,4,11,12,9,6]\n",
        "y=[99,86,87,88,111,86,103,87,94,78,77,85,86]\n",
        "plt.scatter(x,y)\n",
        "plt.show\n"
      ],
      "metadata": {
        "colab": {
          "base_uri": "https://localhost:8080/",
          "height": 283
        },
        "id": "9XNCo_wmiOfO",
        "outputId": "02e60a88-7e2a-4473-8a04-502c5a33ec23"
      },
      "execution_count": 113,
      "outputs": [
        {
          "output_type": "execute_result",
          "data": {
            "text/plain": [
              "<function matplotlib.pyplot.show(*args, **kw)>"
            ]
          },
          "metadata": {},
          "execution_count": 113
        },
        {
          "output_type": "display_data",
          "data": {
            "text/plain": [
              "<Figure size 432x288 with 1 Axes>"
            ],
            "image/png": "[encoded data removed]"
          },
          "metadata": {
            "needs_background": "light"
          }
        }
      ]
    },
    {
      "cell_type": "code",
      "source": [
        "import seaborn as sns\n",
        "sns.scatterplot(x,y,s=100,marker=\"*\",alpha=0.9)\n",
        "plt.show"
      ],
      "metadata": {
        "colab": {
          "base_uri": "https://localhost:8080/",
          "height": 340
        },
        "id": "byUZsEWLjbdE",
        "outputId": "783fdd7e-7034-4dc6-dcb5-3058dcc8f59b"
      },
      "execution_count": 114,
      "outputs": [
        {
          "output_type": "stream",
          "name": "stderr",
          "text": [
            "/usr/local/lib/python3.7/dist-packages/seaborn/_decorators.py:43: FutureWarning: Pass the following variables as keyword args: x, y. From version 0.12, the only valid positional argument will be `data`, and passing other arguments without an explicit keyword will result in an error or misinterpretation.\n",
            "  FutureWarning\n"
          ]
        },
        {
          "output_type": "execute_result",
          "data": {
            "text/plain": [
              "<function matplotlib.pyplot.show(*args, **kw)>"
            ]
          },
          "metadata": {},
          "execution_count": 114
        },
        {
          "output_type": "display_data",
          "data": {
            "text/plain": [
              "<Figure size 432x288 with 1 Axes>"
            ],
            "image/png": "[encoded data removed]"
          },
          "metadata": {
            "needs_background": "light"
          }
        }
      ]
    },
    {
      "cell_type": "code",
      "source": [
        "# Linear Regression is to draw a line for best fit between all these points.\n",
        "# To draw a best-fit line between the point we use another package scipy although it can be drawn using matplotlib and seaborn.\n",
        "# but just to show us how to use scipy but by using a statistics module called stats\n",
        "from scipy import stats\n"
      ],
      "metadata": {
        "id": "gbuq6m8oletW"
      },
      "execution_count": null,
      "outputs": []
    },
    {
      "cell_type": "code",
      "source": [
        "# Mercy said look them on the internet to understand\n",
        "# their meanings like r and pvalue etc.\n",
        "from scipy import stats\n",
        "# slope,intercept,r,pvalue,std_err=stats.linregress(x,y)\n",
        "slope,intercept,r,p,std_err=stats.linregress(x,y)\n",
        "def myfunc(x):\n",
        "  return slope*x+intercept\n",
        "mymodel=list(map(myfunc,x))\n",
        "plt.scatter(x,y)\n",
        "plt.plot(x,mymodel)\n",
        "plt.show()\n"
      ],
      "metadata": {
        "colab": {
          "base_uri": "https://localhost:8080/",
          "height": 265
        },
        "id": "o4otfBfjnYZP",
        "outputId": "f09e5c26-c5d6-4503-92e4-f2a5479dc382"
      },
      "execution_count": 129,
      "outputs": [
        {
          "output_type": "display_data",
          "data": {
            "text/plain": [
              "<Figure size 432x288 with 1 Axes>"
            ],
            "image/png": "[encoded data removed]"
          },
          "metadata": {
            "needs_background": "light"
          }
        }
      ]
    },
    {
      "cell_type": "code",
      "source": [
        "slope,intercept,r,p,std_err=stats.linregress(x,y)\n",
        "print(r,p,std_err) # This is to see the values of r,p and std_err how much were they..."
      ],
      "metadata": {
        "colab": {
          "base_uri": "https://localhost:8080/"
        },
        "id": "Tbf68h_WsBw9",
        "outputId": "fd24adcc-8197-4a81-e239-a4cf381b33eb"
      },
      "execution_count": 128,
      "outputs": [
        {
          "output_type": "stream",
          "name": "stdout",
          "text": [
            "-0.758591524376155 0.0026468739224561064 0.453536157607742\n"
          ]
        }
      ]
    },
    {
      "cell_type": "code",
      "source": [
        "slope,intercept,r,p,std_err=stats.linregress(x,y)\n",
        "def myfunc(x):\n",
        "  return slope*x+intercept\n",
        "Ypred=myfunc(10)\n",
        "print(Ypred)"
      ],
      "metadata": {
        "colab": {
          "base_uri": "https://localhost:8080/"
        },
        "id": "QXg6TuQnsYrj",
        "outputId": "48eba170-d6c3-430d-bc0a-dfe6f31b5c6c"
      },
      "execution_count": 130,
      "outputs": [
        {
          "output_type": "stream",
          "name": "stdout",
          "text": [
            "85.59308314937454\n"
          ]
        }
      ]
    },
    {
      "cell_type": "code",
      "source": [],
      "metadata": {
        "id": "Na0WrqgDuFDM"
      },
      "execution_count": null,
      "outputs": []
    }
  ]
}