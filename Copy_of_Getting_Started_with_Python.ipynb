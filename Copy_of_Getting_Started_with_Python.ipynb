{
  "nbformat": 4,
  "nbformat_minor": 0,
  "metadata": {
    "colab": {
      "provenance": [],
      "collapsed_sections": [],
      "authorship_tag": "ABX9TyO5aO3z/vUVHyf65xTu2NR9",
      "include_colab_link": true
    },
    "kernelspec": {
      "name": "python3",
      "display_name": "Python 3"
    },
    "language_info": {
      "name": "python"
    }
  },
  "cells": [
    {
      "cell_type": "markdown",
      "metadata": {
        "id": "view-in-github",
        "colab_type": "text"
      },
      "source": [
        "<a href=\"https://colab.research.google.com/github/Abayrakdar/Testing/blob/main/Copy_of_Getting_Started_with_Python.ipynb\" target=\"_parent\"><img src=\"https://colab.research.google.com/assets/colab-badge.svg\" alt=\"Open In Colab\"/></a>"
      ]
    },
    {
      "cell_type": "code",
      "execution_count": null,
      "metadata": {
        "colab": {
          "base_uri": "https://localhost:8080/"
        },
        "id": "LAnkJrFXLvaB",
        "outputId": "8db9f055-26eb-47c1-a900-3edfc04a4e0e"
      },
      "outputs": [
        {
          "output_type": "stream",
          "name": "stdout",
          "text": [
            "Hello World!\n"
          ]
        }
      ],
      "source": [
        "x = \"Hello World!\"\n",
        "print(x)"
      ]
    },
    {
      "cell_type": "code",
      "source": [
        "x,y =24,12\n",
        "if x == y:\n",
        "  print(\"The first number is not equal to the second\")\n",
        "elif x>y:\n",
        "  print(\"The first number is greater than the second one\")\n",
        "else:\n",
        "  print(\"The first number is smaller than the second one\")"
      ],
      "metadata": {
        "colab": {
          "base_uri": "https://localhost:8080/"
        },
        "id": "Sz5UrvayC0sx",
        "outputId": "1139d540-ccdc-4750-bb72-4b18f8fdb4d0"
      },
      "execution_count": null,
      "outputs": [
        {
          "output_type": "stream",
          "name": "stdout",
          "text": [
            "The first number is greater than the second one\n"
          ]
        }
      ]
    },
    {
      "cell_type": "code",
      "source": [
        "a,b,c = -5,0,10\n",
        "if c==0:\n",
        "  print(\"number = 0\")\n",
        "elif c>0:\n",
        "  print(\"number is positive\")\n",
        "else:\n",
        "  print(\"number is negative\")\n"
      ],
      "metadata": {
        "colab": {
          "base_uri": "https://localhost:8080/"
        },
        "id": "bnV2f_MCGZb1",
        "outputId": "0756bec4-5ca9-4dd0-d3d4-393817c649ae"
      },
      "execution_count": null,
      "outputs": [
        {
          "output_type": "stream",
          "name": "stdout",
          "text": [
            "number is positive\n"
          ]
        }
      ]
    },
    {
      "cell_type": "code",
      "source": [
        "for i in range(0,6):\n",
        "  print(\"The iteration is {}\".format(i))\n",
        "print(\"The end...\")\n"
      ],
      "metadata": {
        "colab": {
          "base_uri": "https://localhost:8080/"
        },
        "id": "iwI8PsF7Dnt3",
        "outputId": "bf5d4d40-5479-41ca-f995-c7314e43878f"
      },
      "execution_count": null,
      "outputs": [
        {
          "output_type": "stream",
          "name": "stdout",
          "text": [
            "The iteration is 0\n",
            "The iteration is 1\n",
            "The iteration is 2\n",
            "The iteration is 3\n",
            "The iteration is 4\n",
            "The iteration is 5\n",
            "The end...\n"
          ]
        }
      ]
    },
    {
      "cell_type": "code",
      "source": [
        "a=0\n",
        "while a<6:\n",
        "  print(a)\n",
        "  a+=1\n",
        "print(\"The end..\")"
      ],
      "metadata": {
        "colab": {
          "base_uri": "https://localhost:8080/"
        },
        "id": "LyvkMfmFHRRn",
        "outputId": "1959107a-dc66-4d86-eea4-4cc3bb14893d"
      },
      "execution_count": null,
      "outputs": [
        {
          "output_type": "stream",
          "name": "stdout",
          "text": [
            "0\n",
            "1\n",
            "2\n",
            "3\n",
            "4\n",
            "5\n",
            "The end..\n"
          ]
        }
      ]
    },
    {
      "cell_type": "code",
      "source": [
        "targetvalue =4\n",
        "iterate =0\n",
        "while iterate <targetvalue:\n",
        "  print(\"The iteration no. is {}, which is less than the target value {}\".format(iterate, targetvalue))\n",
        "  iterate=iterate+1\n",
        "print(\"The end!\")\n"
      ],
      "metadata": {
        "colab": {
          "base_uri": "https://localhost:8080/"
        },
        "id": "NmbLSJAkIXcS",
        "outputId": "27c1da85-a9d5-45f1-ba7f-db7c2ffab640"
      },
      "execution_count": null,
      "outputs": [
        {
          "output_type": "stream",
          "name": "stdout",
          "text": [
            "The iteration no. is 0, which is less than the target value 4\n",
            "The iteration no. is 1, which is less than the target value 4\n",
            "The iteration no. is 2, which is less than the target value 4\n",
            "The iteration no. is 3, which is less than the target value 4\n",
            "The end!\n"
          ]
        }
      ]
    },
    {
      "cell_type": "code",
      "source": [
        "#Example on Nested Loop\n",
        "for i in range(1,6): #This is the Outer Loop\n",
        " for j in range(1,11): #This is the Inner Loop\n",
        "  print(i*j, end=\" \") #This end=\" \" is added to have the output horizontally, if removed it will print vertically.\n",
        "print(\"The end...\")"
      ],
      "metadata": {
        "colab": {
          "base_uri": "https://localhost:8080/"
        },
        "id": "dhlanSpdKKqd",
        "outputId": "9f4f76f0-393d-47cd-ed98-1252c512777c"
      },
      "execution_count": null,
      "outputs": [
        {
          "output_type": "stream",
          "name": "stdout",
          "text": [
            "1 2 3 4 5 6 7 8 9 10 2 4 6 8 10 12 14 16 18 20 3 6 9 12 15 18 21 24 27 30 4 8 12 16 20 24 28 32 36 40 5 10 15 20 25 30 35 40 45 50 The end...\n"
          ]
        }
      ]
    },
    {
      "cell_type": "code",
      "source": [
        "#Another Example on Nested Loop\n",
        "colours = [\"blue\", \"red\", \"yellow\"]\n",
        "cars = [\"BMW\", \"Mercedes\", \"Range\"]\n",
        "for colour in colours: #Outer Loop\n",
        " for car in cars: #Inner Loop\n",
        "   print(colour, car)\n",
        "print(\"The end....\") "
      ],
      "metadata": {
        "colab": {
          "base_uri": "https://localhost:8080/"
        },
        "id": "DtomPcV-NOwQ",
        "outputId": "a3fa1a4a-6301-475f-e667-df4673ed046e"
      },
      "execution_count": null,
      "outputs": [
        {
          "output_type": "stream",
          "name": "stdout",
          "text": [
            "blue BMW\n",
            "blue Mercedes\n",
            "blue Range\n",
            "red BMW\n",
            "red Mercedes\n",
            "red Range\n",
            "yellow BMW\n",
            "yellow Mercedes\n",
            "yellow Range\n",
            "The end....\n"
          ]
        }
      ]
    },
    {
      "cell_type": "code",
      "source": [
        "#Example on \"break\" command which breaks the operation at a certain point\n",
        "targetv=5\n",
        "iterate=0\n",
        "while iterate<targetvalue:\n",
        "  print(\"Iteration number is {}, which is less than the target value {}\".format(iterate,targetv))\n",
        "  if iterate==3:\n",
        "    print(\"Condition of iterate value reached 3\")\n",
        "    break\n",
        "  iterate=iterate+1"
      ],
      "metadata": {
        "colab": {
          "base_uri": "https://localhost:8080/"
        },
        "id": "Mr0Ot4U-PGOh",
        "outputId": "54572ab9-e67e-4367-b986-a8f1dfac62ea"
      },
      "execution_count": null,
      "outputs": [
        {
          "output_type": "stream",
          "name": "stdout",
          "text": [
            "Iteration number is 0, which is less than the target value 5\n",
            "Iteration number is 1, which is less than the target value 5\n",
            "Iteration number is 2, which is less than the target value 5\n",
            "Iteration number is 3, which is less than the target value 5\n",
            "Condition of iterate value reached 3\n"
          ]
        }
      ]
    },
    {
      "cell_type": "code",
      "source": [
        "#Here we use the command \"continue\" to break or skip a certain point but to continue\n",
        "targetv=5\n",
        "iterate=0\n",
        "while iterate<targetv:\n",
        "  iterate=iterate+1\n",
        "  if iterate==2:\n",
        "    continue\n",
        "  print(\"Iteration no is {}, which is less than the target value {}\".format(iterate,targetv))\n",
        "print(\"The Iteration number 2 has been skipped\")"
      ],
      "metadata": {
        "colab": {
          "base_uri": "https://localhost:8080/"
        },
        "id": "7RtEesi0Qg2u",
        "outputId": "78e34f50-2cb0-4de2-ab29-f890d6634ee3"
      },
      "execution_count": null,
      "outputs": [
        {
          "output_type": "stream",
          "name": "stdout",
          "text": [
            "Iteration no is 1, which is less than the target value 5\n",
            "Iteration no is 3, which is less than the target value 5\n",
            "Iteration no is 4, which is less than the target value 5\n",
            "Iteration no is 5, which is less than the target value 5\n",
            "The Iteration number 2 has been skipped\n"
          ]
        }
      ]
    },
    {
      "cell_type": "code",
      "source": [
        "#Another example here for use of the command \"continue\" to break or skip a certain point but to continue\n",
        "names =[\"Mercy\", \"Anis\", \"Chris\", \"Israel\"]\n",
        "for name in names:\n",
        "  if name == \"Chris\":\n",
        "    continue\n",
        "  print(name)"
      ],
      "metadata": {
        "colab": {
          "base_uri": "https://localhost:8080/"
        },
        "id": "Z9V6p_biWne2",
        "outputId": "f73da365-6b3c-4708-f716-3aa2e8fad55e"
      },
      "execution_count": null,
      "outputs": [
        {
          "output_type": "stream",
          "name": "stdout",
          "text": [
            "Mercy\n",
            "Anis\n",
            "Israel\n"
          ]
        }
      ]
    },
    {
      "cell_type": "code",
      "source": [
        "#Change a value in a List\n",
        "mylist =[\"Michael\", \"Sean\", \"Adam\"]\n",
        "mylist[0]=\"John\"\n",
        "print(mylist)"
      ],
      "metadata": {
        "id": "F1Kg_dJMXhIG",
        "colab": {
          "base_uri": "https://localhost:8080/",
          "height": 0
        },
        "outputId": "eb444c12-964b-4117-8854-9b8c9a2df239"
      },
      "execution_count": 1,
      "outputs": [
        {
          "output_type": "stream",
          "name": "stdout",
          "text": [
            "['John', 'Sean', 'Adam']\n"
          ]
        }
      ]
    },
    {
      "cell_type": "code",
      "source": [
        "mylist[0:2]"
      ],
      "metadata": {
        "colab": {
          "base_uri": "https://localhost:8080/",
          "height": 0
        },
        "id": "9c5WxRi3aB6Q",
        "outputId": "10023c9d-0870-4f9b-c9e3-fe07fcb59294"
      },
      "execution_count": 2,
      "outputs": [
        {
          "output_type": "execute_result",
          "data": {
            "text/plain": [
              "['John', 'Sean']"
            ]
          },
          "metadata": {},
          "execution_count": 2
        }
      ]
    },
    {
      "cell_type": "code",
      "source": [
        "print(len(mylist[0]))"
      ],
      "metadata": {
        "colab": {
          "base_uri": "https://localhost:8080/",
          "height": 0
        },
        "id": "8WjLIXCuaLO8",
        "outputId": "699a405e-5b3b-4018-d73e-1ef8c669904f"
      },
      "execution_count": 3,
      "outputs": [
        {
          "output_type": "stream",
          "name": "stdout",
          "text": [
            "4\n"
          ]
        }
      ]
    },
    {
      "cell_type": "code",
      "source": [
        "print(len(mylist))"
      ],
      "metadata": {
        "colab": {
          "base_uri": "https://localhost:8080/",
          "height": 0
        },
        "id": "vf9TMmilaWr5",
        "outputId": "e6a1cd66-3ab9-4596-8848-59d5da0ac00d"
      },
      "execution_count": 4,
      "outputs": [
        {
          "output_type": "stream",
          "name": "stdout",
          "text": [
            "3\n"
          ]
        }
      ]
    },
    {
      "cell_type": "code",
      "source": [
        "print(type(mylist))"
      ],
      "metadata": {
        "colab": {
          "base_uri": "https://localhost:8080/",
          "height": 0
        },
        "id": "iYUvRgy8acVw",
        "outputId": "263e3b46-ff04-4326-abcb-b8471053d8bd"
      },
      "execution_count": 5,
      "outputs": [
        {
          "output_type": "stream",
          "name": "stdout",
          "text": [
            "<class 'list'>\n"
          ]
        }
      ]
    },
    {
      "cell_type": "code",
      "source": [
        "mylist =[\"Michael\", \"Sean\", \"Adam\"]\n",
        "if \"Sean\" in mylist:\n",
        "  print(\"Yes the element is in there\")"
      ],
      "metadata": {
        "colab": {
          "base_uri": "https://localhost:8080/",
          "height": 0
        },
        "id": "wphpuaVhagEu",
        "outputId": "f9a67c3e-4ad4-48d8-e7d6-2800d26ef041"
      },
      "execution_count": 7,
      "outputs": [
        {
          "output_type": "stream",
          "name": "stdout",
          "text": [
            "Yes the element is in there\n"
          ]
        }
      ]
    },
    {
      "cell_type": "code",
      "source": [
        "mylist =[\"Michael\", \"Sean\", \"Adam\"]\n",
        "mylist.insert(0,\"Mercy\")\n",
        "print(mylist)"
      ],
      "metadata": {
        "colab": {
          "base_uri": "https://localhost:8080/",
          "height": 0
        },
        "id": "zJmfrvHEbT7j",
        "outputId": "965d9dec-0154-4380-d4ea-0aa4d29b60d9"
      },
      "execution_count": 8,
      "outputs": [
        {
          "output_type": "stream",
          "name": "stdout",
          "text": [
            "['Mercy', 'Michael', 'Sean', 'Adam']\n"
          ]
        }
      ]
    },
    {
      "cell_type": "code",
      "source": [
        "mylist.append(\"Adam\")  #Since it is a List it allows duplicate elements in it.\n",
        "print(mylist)"
      ],
      "metadata": {
        "colab": {
          "base_uri": "https://localhost:8080/",
          "height": 0
        },
        "id": "8dt3zG3FbwHW",
        "outputId": "adfba101-0230-4458-f70b-e8879ad4ee88"
      },
      "execution_count": 12,
      "outputs": [
        {
          "output_type": "stream",
          "name": "stdout",
          "text": [
            "['Mercy', 'Michael', 'Sean', 'Adam', 'Adam', 'Adam']\n"
          ]
        }
      ]
    },
    {
      "cell_type": "code",
      "source": [
        "mylist1 =[\"Michael\", \"Sean\", \"Adam\"]\n",
        "mylist2 = [\"Zara\", \"Alex\"]\n",
        "mylist1.extend(mylist2)\n",
        "print(mylist1)"
      ],
      "metadata": {
        "colab": {
          "base_uri": "https://localhost:8080/",
          "height": 0
        },
        "id": "gbjoDiWAcKYW",
        "outputId": "e1f81cae-9047-4a93-fb23-c3997a380891"
      },
      "execution_count": 14,
      "outputs": [
        {
          "output_type": "stream",
          "name": "stdout",
          "text": [
            "['Michael', 'Sean', 'Adam', 'Zara', 'Alex']\n"
          ]
        }
      ]
    },
    {
      "cell_type": "code",
      "source": [
        "mylist2.extend(mylist1)\n",
        "print(mylist2)"
      ],
      "metadata": {
        "colab": {
          "base_uri": "https://localhost:8080/",
          "height": 0
        },
        "id": "n-A8_gSGct_v",
        "outputId": "7a037c09-d499-4bd9-a7ee-4989461bc2d1"
      },
      "execution_count": 15,
      "outputs": [
        {
          "output_type": "stream",
          "name": "stdout",
          "text": [
            "['Zara', 'Alex', 'Michael', 'Sean', 'Adam', 'Zara', 'Alex']\n"
          ]
        }
      ]
    },
    {
      "cell_type": "code",
      "source": [
        "mylist2.remove(\"Zara\")\n",
        "print(mylist2)"
      ],
      "metadata": {
        "colab": {
          "base_uri": "https://localhost:8080/",
          "height": 0
        },
        "id": "fsrVEE-1czjn",
        "outputId": "d732cc5a-7b52-4495-8603-b9c55fd423f5"
      },
      "execution_count": 17,
      "outputs": [
        {
          "output_type": "stream",
          "name": "stdout",
          "text": [
            "['Alex', 'Michael', 'Sean', 'Adam', 'Alex']\n"
          ]
        }
      ]
    },
    {
      "cell_type": "code",
      "source": [
        "#The \"pop\" command removes based on index but when not given an index it removes the last element.\n",
        "mylist2.pop()\n",
        "print(mylist2)"
      ],
      "metadata": {
        "colab": {
          "base_uri": "https://localhost:8080/",
          "height": 0
        },
        "id": "88rcxEXldq7W",
        "outputId": "8baa5c38-64e1-40e3-ac43-37d2431f3ac9"
      },
      "execution_count": 18,
      "outputs": [
        {
          "output_type": "stream",
          "name": "stdout",
          "text": [
            "['Alex', 'Michael', 'Sean', 'Adam']\n"
          ]
        }
      ]
    },
    {
      "cell_type": "code",
      "source": [
        "mylist2.pop(0)\n",
        "print(mylist2)"
      ],
      "metadata": {
        "colab": {
          "base_uri": "https://localhost:8080/",
          "height": 0
        },
        "id": "tRHWJ18Ndw0O",
        "outputId": "ba563f00-6682-4981-ed3c-efd20e953ed3"
      },
      "execution_count": 19,
      "outputs": [
        {
          "output_type": "stream",
          "name": "stdout",
          "text": [
            "['Michael', 'Sean', 'Adam']\n"
          ]
        }
      ]
    },
    {
      "cell_type": "code",
      "source": [
        "#Example to remove all Zara\n",
        "mylist5 =[\"Zara\", \"Alex\", \"Zara\", \"Michael\", \"Sean\", \"Adam\"]\n",
        "mylist5.sort()\n",
        "mylist5.pop(5)\n",
        "mylist5\n",
        "mylist5.pop(4)\n",
        "mylist5"
      ],
      "metadata": {
        "colab": {
          "base_uri": "https://localhost:8080/",
          "height": 0
        },
        "id": "qZPZ6S5FeIYA",
        "outputId": "62f23b24-9e6d-45f7-8331-228bcccd3a3b"
      },
      "execution_count": 25,
      "outputs": [
        {
          "output_type": "execute_result",
          "data": {
            "text/plain": [
              "['Adam', 'Alex', 'Michael', 'Sean']"
            ]
          },
          "metadata": {},
          "execution_count": 25
        }
      ]
    },
    {
      "cell_type": "code",
      "source": [
        "#Example to remove all Zara\n",
        "mylist5 =[\"Zara\", \"Alex\", \"Zara\", \"Michael\", \"Sean\", \"Adam\"]\n",
        "for name in mylist5:\n",
        "  if name ==\"Zara\":\n",
        "   mylist5.remove(\"Zara\")\n",
        "print(mylist5)"
      ],
      "metadata": {
        "colab": {
          "base_uri": "https://localhost:8080/",
          "height": 0
        },
        "id": "Cy7UmL1Qf9ul",
        "outputId": "7c9b3ceb-d1f2-400b-8633-981fb06e4f80"
      },
      "execution_count": 29,
      "outputs": [
        {
          "output_type": "stream",
          "name": "stdout",
          "text": [
            "['Alex', 'Michael', 'Sean', 'Adam']\n"
          ]
        }
      ]
    },
    {
      "cell_type": "code",
      "source": [
        "mylist6=[\"Zara\", \"Alex\", \"Zara\", \"Michael\", \"Sean\", \"Adam\"]\n",
        "mylist6.reverse()\n",
        "print(mylist6)"
      ],
      "metadata": {
        "colab": {
          "base_uri": "https://localhost:8080/",
          "height": 0
        },
        "id": "dv5ukWdJhqsP",
        "outputId": "55870948-5b6f-47f3-df1e-8319efde1708"
      },
      "execution_count": 30,
      "outputs": [
        {
          "output_type": "stream",
          "name": "stdout",
          "text": [
            "['Adam', 'Sean', 'Michael', 'Zara', 'Alex', 'Zara']\n"
          ]
        }
      ]
    },
    {
      "cell_type": "code",
      "source": [
        "mylist7=[\"banana\",\"apple\",\"orange\"]\n",
        "mylist8=[\"Noun\", \"Adjective\", \"Adverbs\"]\n",
        "mylist9=mylist7+mylist8\n",
        "print(mylist9)"
      ],
      "metadata": {
        "colab": {
          "base_uri": "https://localhost:8080/",
          "height": 0
        },
        "id": "9mqAAUl4ib-f",
        "outputId": "b6278269-9e4b-42fe-a624-9510184958ee"
      },
      "execution_count": 32,
      "outputs": [
        {
          "output_type": "stream",
          "name": "stdout",
          "text": [
            "['banana', 'apple', 'orange', 'Noun', 'Adjective', 'Adverbs']\n"
          ]
        }
      ]
    },
    {
      "cell_type": "code",
      "source": [
        "companies=[\"tiktok\", \"whatsapp\", \"facebook\"]\n",
        "searchedfor=\"google\"\n",
        "if searchedfor in companies:\n",
        "  print(companies, \"Yes, the company you searched for {} is in there\".format(searchedfor))\n",
        "else:\n",
        " print(\"No, it is not found but the programme you wrote is adding {} to those\".format(searchedfor), companies)\n",
        "companies.append(\"google\")\n",
        "print(\"Here, it has been added\", companies)"
      ],
      "metadata": {
        "colab": {
          "base_uri": "https://localhost:8080/",
          "height": 0
        },
        "id": "6qP30ZSvi8Fp",
        "outputId": "9cff5b9e-bc30-4536-d999-cac747723091"
      },
      "execution_count": 59,
      "outputs": [
        {
          "output_type": "stream",
          "name": "stdout",
          "text": [
            "No, it is not found but the programme you wrote is adding google to those ['tiktok', 'whatsapp', 'facebook']\n",
            "Here, it has been added ['tiktok', 'whatsapp', 'facebook', 'google']\n"
          ]
        }
      ]
    },
    {
      "cell_type": "code",
      "source": [
        "mylist10=[\"Meta\", \"Google\", \"Tesla\", \"Snap\"]\n",
        "element=input(\"Please input tech. company name (Capitalised)\")\n",
        "if element in mylist10:\n",
        "  print(\"Tech. company \\\"{}\\\" you've just input already exists\".format(element))\n",
        "else:\n",
        "  mylist10.append(element)\n",
        "  print(mylist10)"
      ],
      "metadata": {
        "colab": {
          "base_uri": "https://localhost:8080/",
          "height": 0
        },
        "id": "Ev9tmWYNpXKB",
        "outputId": "172319a2-fd03-4717-c17e-9a96d3bf620a"
      },
      "execution_count": 66,
      "outputs": [
        {
          "output_type": "stream",
          "name": "stdout",
          "text": [
            "Please input tech. company name (Capitalised)Loulou\n",
            "['Meta', 'Google', 'Tesla', 'Snap', 'Loulou']\n"
          ]
        }
      ]
    },
    {
      "cell_type": "code",
      "source": [
        "#This is to print them in a column vertically\n",
        "companies=[\"Meta\", \"Google\", \"Tesla\", \"Snap\"]\n",
        "for element in companies:\n",
        "  print(element)"
      ],
      "metadata": {
        "colab": {
          "base_uri": "https://localhost:8080/",
          "height": 0
        },
        "id": "zaaJbdFBskil",
        "outputId": "311ae765-24ee-439f-86c6-eca1966fe596"
      },
      "execution_count": 69,
      "outputs": [
        {
          "output_type": "stream",
          "name": "stdout",
          "text": [
            "Meta\n",
            "Google\n",
            "Tesla\n",
            "Snap\n"
          ]
        }
      ]
    },
    {
      "cell_type": "code",
      "source": [
        "#This is to print them in a column vertically with using function \"len\" in \"list\" it outputs the position index of each element\n",
        "companies=[\"Meta\", \"Google\", \"Tesla\", \"Snap\"]\n",
        "for element in range(len(companies)):\n",
        " print(element, companies(element))"
      ],
      "metadata": {
        "colab": {
          "base_uri": "https://localhost:8080/",
          "height": 208
        },
        "id": "DtSPAYxhtPbs",
        "outputId": "d980a400-30c3-44b4-a74d-3c2c1b816595"
      },
      "execution_count": 77,
      "outputs": [
        {
          "output_type": "error",
          "ename": "TypeError",
          "evalue": "ignored",
          "traceback": [
            "\u001b[0;31m---------------------------------------------------------------------------\u001b[0m",
            "\u001b[0;31mTypeError\u001b[0m                                 Traceback (most recent call last)",
            "\u001b[0;32m<ipython-input-77-64594d8b50bb>\u001b[0m in \u001b[0;36m<module>\u001b[0;34m\u001b[0m\n\u001b[1;32m      2\u001b[0m \u001b[0mcompanies\u001b[0m\u001b[0;34m=\u001b[0m\u001b[0;34m[\u001b[0m\u001b[0;34m\"Meta\"\u001b[0m\u001b[0;34m,\u001b[0m \u001b[0;34m\"Google\"\u001b[0m\u001b[0;34m,\u001b[0m \u001b[0;34m\"Tesla\"\u001b[0m\u001b[0;34m,\u001b[0m \u001b[0;34m\"Snap\"\u001b[0m\u001b[0;34m]\u001b[0m\u001b[0;34m\u001b[0m\u001b[0;34m\u001b[0m\u001b[0m\n\u001b[1;32m      3\u001b[0m \u001b[0;32mfor\u001b[0m \u001b[0melement\u001b[0m \u001b[0;32min\u001b[0m \u001b[0mrange\u001b[0m\u001b[0;34m(\u001b[0m\u001b[0mlen\u001b[0m\u001b[0;34m(\u001b[0m\u001b[0mcompanies\u001b[0m\u001b[0;34m)\u001b[0m\u001b[0;34m)\u001b[0m\u001b[0;34m:\u001b[0m\u001b[0;34m\u001b[0m\u001b[0;34m\u001b[0m\u001b[0m\n\u001b[0;32m----> 4\u001b[0;31m  \u001b[0mprint\u001b[0m\u001b[0;34m(\u001b[0m\u001b[0melement\u001b[0m\u001b[0;34m,\u001b[0m \u001b[0mcompanies\u001b[0m\u001b[0;34m(\u001b[0m\u001b[0melement\u001b[0m\u001b[0;34m)\u001b[0m\u001b[0;34m)\u001b[0m\u001b[0;34m\u001b[0m\u001b[0;34m\u001b[0m\u001b[0m\n\u001b[0m",
            "\u001b[0;31mTypeError\u001b[0m: 'list' object is not callable"
          ]
        }
      ]
    },
    {
      "cell_type": "code",
      "source": [
        "a=[1,2,3,4,5,6]\n",
        "b=[x**2 for x in a]\n",
        "print(b)"
      ],
      "metadata": {
        "colab": {
          "base_uri": "https://localhost:8080/",
          "height": 0
        },
        "id": "YDJO-cAlu6zE",
        "outputId": "17313f9d-f0fb-4f46-867a-28e129d44e64"
      },
      "execution_count": 78,
      "outputs": [
        {
          "output_type": "stream",
          "name": "stdout",
          "text": [
            "[1, 4, 9, 16, 25, 36]\n"
          ]
        }
      ]
    },
    {
      "cell_type": "code",
      "source": [
        "a=[1,2,3,4,5,6]\n",
        "c=[]\n",
        "for x in a:\n",
        "  c.append(x**2)\n",
        "print(c)\n"
      ],
      "metadata": {
        "colab": {
          "base_uri": "https://localhost:8080/",
          "height": 0
        },
        "id": "UmERgP_evJwC",
        "outputId": "cdfb910a-0667-4566-e3ca-1b4b6bf9f956"
      },
      "execution_count": 82,
      "outputs": [
        {
          "output_type": "stream",
          "name": "stdout",
          "text": [
            "[1, 4, 9, 16, 25, 36]\n"
          ]
        }
      ]
    },
    {
      "cell_type": "code",
      "source": [
        "#The function \"letter.upper\" converts the letter to upper case\n",
        "word=[letter.upper() for letter in \"python\"]\n",
        "print(word)"
      ],
      "metadata": {
        "colab": {
          "base_uri": "https://localhost:8080/",
          "height": 0
        },
        "id": "w2gXgGDrvliz",
        "outputId": "e492b3c1-d1cb-48eb-93e1-3995d2bb1105"
      },
      "execution_count": 83,
      "outputs": [
        {
          "output_type": "stream",
          "name": "stdout",
          "text": [
            "['P', 'Y', 'T', 'H', 'O', 'N']\n"
          ]
        }
      ]
    },
    {
      "cell_type": "code",
      "source": [
        "#Dictionaries in Python, this example shows how to add an item to a dictionary\n",
        "mydict={\"employee\":\"Zara\", \"salary\":5000}\n",
        "mydict[\"department\"]=\"Sales\"\n",
        "print(mydict)\n",
        "print(len(mydict))"
      ],
      "metadata": {
        "colab": {
          "base_uri": "https://localhost:8080/",
          "height": 0
        },
        "id": "UPmBXXrQwtJ5",
        "outputId": "f8073bbd-5ce6-4605-9c97-e462f37b3fba"
      },
      "execution_count": 86,
      "outputs": [
        {
          "output_type": "stream",
          "name": "stdout",
          "text": [
            "{'employee': 'Zara', 'salary': 5000, 'department': 'Sales'}\n",
            "3\n"
          ]
        }
      ]
    },
    {
      "cell_type": "code",
      "source": [
        "#Searching for a Key or for its value in a dictionary\n",
        "mydict1={'employee': 'Zara', 'salary': 5000, 'department': 'Sales'}\n",
        "if \"department\" in mydict1:\n",
        "  print(\"The key exists\")"
      ],
      "metadata": {
        "colab": {
          "base_uri": "https://localhost:8080/",
          "height": 0
        },
        "id": "yoWJWUJCxkya",
        "outputId": "2a9ab3b1-fb9c-4daa-cfea-825d078212cb"
      },
      "execution_count": 87,
      "outputs": [
        {
          "output_type": "stream",
          "name": "stdout",
          "text": [
            "The key exists\n"
          ]
        }
      ]
    },
    {
      "cell_type": "code",
      "source": [
        "mydict1={'employee': 'Zara', 'salary': 5000, 'department': 'Sales'}\n",
        "mydict1.update({\"status\":\"permanent\", \"level\":3})\n",
        "print(mydict1)"
      ],
      "metadata": {
        "colab": {
          "base_uri": "https://localhost:8080/",
          "height": 0
        },
        "id": "bpicX9Xzx56V",
        "outputId": "e844a7f7-3a30-4fdf-f800-d8731c97787a"
      },
      "execution_count": 89,
      "outputs": [
        {
          "output_type": "stream",
          "name": "stdout",
          "text": [
            "{'employee': 'Zara', 'salary': 5000, 'department': 'Sales', 'status': 'permanent', 'level': 3}\n"
          ]
        }
      ]
    },
    {
      "cell_type": "code",
      "source": [
        "mydict1={'employee': 'Zara', 'salary': 5000, 'department': 'Sales'}\n",
        "mydict1.update({\"salary\":6000, \"level\":3})\n",
        "print(mydict1)"
      ],
      "metadata": {
        "colab": {
          "base_uri": "https://localhost:8080/",
          "height": 0
        },
        "id": "FL2z515RytdG",
        "outputId": "ffec839c-9ffe-4b49-fce9-8d08237530da"
      },
      "execution_count": 90,
      "outputs": [
        {
          "output_type": "stream",
          "name": "stdout",
          "text": [
            "{'employee': 'Zara', 'salary': 6000, 'department': 'Sales', 'level': 3}\n"
          ]
        }
      ]
    },
    {
      "cell_type": "code",
      "source": [
        "#To remove an elenement from a dictionary it is enough just to mention the Key without its value by using pop but with popo you do not need the curly brackets.\n",
        "mydict1={'employee': 'Zara', 'salary': 5000, 'department': 'Sales'}\n",
        "mydict1.pop(\"salary\")\n",
        "print(mydict1)"
      ],
      "metadata": {
        "colab": {
          "base_uri": "https://localhost:8080/",
          "height": 0
        },
        "id": "iwt434wFy3m1",
        "outputId": "b8fc21be-e6d4-45c3-8bd5-8c79cdb8c660"
      },
      "execution_count": 93,
      "outputs": [
        {
          "output_type": "stream",
          "name": "stdout",
          "text": [
            "{'employee': 'Zara', 'department': 'Sales'}\n"
          ]
        }
      ]
    },
    {
      "cell_type": "code",
      "source": [
        "mydict1={'employee': 'Zara', 'salary': 5000, 'department': 'Sales'}\n",
        "del mydict1[\"salary\"]\n",
        "print(mydict1)"
      ],
      "metadata": {
        "colab": {
          "base_uri": "https://localhost:8080/",
          "height": 0
        },
        "id": "3xq8U0htzuCJ",
        "outputId": "43e4d73c-3127-4358-a806-87ebbee82ce7"
      },
      "execution_count": 98,
      "outputs": [
        {
          "output_type": "stream",
          "name": "stdout",
          "text": [
            "{'employee': 'Zara', 'department': 'Sales'}\n"
          ]
        }
      ]
    },
    {
      "cell_type": "code",
      "source": [
        "mydict1={'employee': 'Zara', 'salary': 5000, 'department': 'Sales'}\n",
        "mydict1.clear()\n",
        "print(mydict1)"
      ],
      "metadata": {
        "colab": {
          "base_uri": "https://localhost:8080/",
          "height": 0
        },
        "id": "uNW7Qzyj0YIx",
        "outputId": "69bbdf24-8d66-4bc0-e679-24dc5d7c65cf"
      },
      "execution_count": 99,
      "outputs": [
        {
          "output_type": "stream",
          "name": "stdout",
          "text": [
            "{}\n"
          ]
        }
      ]
    },
    {
      "cell_type": "code",
      "source": [
        "#In Tuples we use indexing which has to have a square bracket when using indexing\n",
        "mytuples=(\"Audi\", \"Ford\", \"Tesla\")\n",
        "mytuples[2]\n",
        "print(mytuples[2])"
      ],
      "metadata": {
        "colab": {
          "base_uri": "https://localhost:8080/"
        },
        "id": "2SyQSX8P0gZg",
        "outputId": "eaadd970-c949-447c-e3c1-3657158273c2"
      },
      "execution_count": 102,
      "outputs": [
        {
          "output_type": "stream",
          "name": "stdout",
          "text": [
            "Tesla\n"
          ]
        }
      ]
    },
    {
      "cell_type": "code",
      "source": [
        "mytuples=(\"Audi\", \"Ford\", \"Tesla\")\n",
        "#mytuples[2]=\"BMW\" #Tuples cannot be changed in Python can remove or add otherwise we will have to change tuple to a list then change and then convert back to tuple\n",
        "#print(mytuples[2])\n",
        "mylistoftuple=list(mytuples)\n",
        "mylistoftuple[1]=\"BMW\"\n",
        "mytuples=tuple(mylistoftuple)\n",
        "print(mytuples)"
      ],
      "metadata": {
        "colab": {
          "base_uri": "https://localhost:8080/"
        },
        "id": "-DUHRGb107Im",
        "outputId": "52dd307f-ada7-421d-908d-5279e4436d65"
      },
      "execution_count": 104,
      "outputs": [
        {
          "output_type": "stream",
          "name": "stdout",
          "text": [
            "('Audi', 'BMW', 'Tesla')\n"
          ]
        }
      ]
    },
    {
      "cell_type": "code",
      "source": [
        "myset={\"Apple\", \"Banana\"}\n",
        "print(len(myset))\n",
        "#myset[0:1] because Sets in python are not ordered then we cannot use index\n",
        "print(len(myset))"
      ],
      "metadata": {
        "colab": {
          "base_uri": "https://localhost:8080/"
        },
        "id": "xQg1HYZz2Imy",
        "outputId": "f2d3a411-f582-425a-f8cf-2f9f7301b068"
      },
      "execution_count": 107,
      "outputs": [
        {
          "output_type": "stream",
          "name": "stdout",
          "text": [
            "2\n",
            "2\n"
          ]
        }
      ]
    }
  ]
}