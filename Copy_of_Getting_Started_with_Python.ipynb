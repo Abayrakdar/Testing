{
  "nbformat": 4,
  "nbformat_minor": 0,
  "metadata": {
    "colab": {
      "provenance": [],
      "collapsed_sections": [],
      "authorship_tag": "ABX9TyP7HJynT+WR/4e/yksQcjwo",
      "include_colab_link": true
    },
    "kernelspec": {
      "name": "python3",
      "display_name": "Python 3"
    },
    "language_info": {
      "name": "python"
    }
  },
  "cells": [
    {
      "cell_type": "markdown",
      "metadata": {
        "id": "view-in-github",
        "colab_type": "text"
      },
      "source": [
        "<a href=\"https://colab.research.google.com/github/Abayrakdar/Testing/blob/main/Copy_of_Getting_Started_with_Python.ipynb\" target=\"_parent\"><img src=\"https://colab.research.google.com/assets/colab-badge.svg\" alt=\"Open In Colab\"/></a>"
      ]
    },
    {
      "cell_type": "code",
      "execution_count": null,
      "metadata": {
        "colab": {
          "base_uri": "https://localhost:8080/"
        },
        "id": "LAnkJrFXLvaB",
        "outputId": "8db9f055-26eb-47c1-a900-3edfc04a4e0e"
      },
      "outputs": [
        {
          "output_type": "stream",
          "name": "stdout",
          "text": [
            "Hello World!\n"
          ]
        }
      ],
      "source": [
        "x = \"Hello World!\"\n",
        "print(x)"
      ]
    },
    {
      "cell_type": "code",
      "source": [
        "x,y =24,12\n",
        "if x == y:\n",
        "  print(\"The first number is not equal to the second\")\n",
        "elif x>y:\n",
        "  print(\"The first number is greater than the second one\")\n",
        "else:\n",
        "  print(\"The first number is smaller than the second one\")"
      ],
      "metadata": {
        "colab": {
          "base_uri": "https://localhost:8080/"
        },
        "id": "Sz5UrvayC0sx",
        "outputId": "1139d540-ccdc-4750-bb72-4b18f8fdb4d0"
      },
      "execution_count": null,
      "outputs": [
        {
          "output_type": "stream",
          "name": "stdout",
          "text": [
            "The first number is greater than the second one\n"
          ]
        }
      ]
    },
    {
      "cell_type": "code",
      "source": [
        "a,b,c = -5,0,10\n",
        "if c==0:\n",
        "  print(\"number = 0\")\n",
        "elif c>0:\n",
        "  print(\"number is positive\")\n",
        "else:\n",
        "  print(\"number is negative\")\n"
      ],
      "metadata": {
        "colab": {
          "base_uri": "https://localhost:8080/"
        },
        "id": "bnV2f_MCGZb1",
        "outputId": "0756bec4-5ca9-4dd0-d3d4-393817c649ae"
      },
      "execution_count": null,
      "outputs": [
        {
          "output_type": "stream",
          "name": "stdout",
          "text": [
            "number is positive\n"
          ]
        }
      ]
    },
    {
      "cell_type": "code",
      "source": [
        "for i in range(0,6):\n",
        "  print(\"The iteration is {}\".format(i))\n",
        "print(\"The end...\")\n"
      ],
      "metadata": {
        "colab": {
          "base_uri": "https://localhost:8080/"
        },
        "id": "iwI8PsF7Dnt3",
        "outputId": "bf5d4d40-5479-41ca-f995-c7314e43878f"
      },
      "execution_count": null,
      "outputs": [
        {
          "output_type": "stream",
          "name": "stdout",
          "text": [
            "The iteration is 0\n",
            "The iteration is 1\n",
            "The iteration is 2\n",
            "The iteration is 3\n",
            "The iteration is 4\n",
            "The iteration is 5\n",
            "The end...\n"
          ]
        }
      ]
    },
    {
      "cell_type": "code",
      "source": [
        "a=0\n",
        "while a<6:\n",
        "  print(a)\n",
        "  a+=1\n",
        "print(\"The end..\")"
      ],
      "metadata": {
        "colab": {
          "base_uri": "https://localhost:8080/"
        },
        "id": "LyvkMfmFHRRn",
        "outputId": "1959107a-dc66-4d86-eea4-4cc3bb14893d"
      },
      "execution_count": null,
      "outputs": [
        {
          "output_type": "stream",
          "name": "stdout",
          "text": [
            "0\n",
            "1\n",
            "2\n",
            "3\n",
            "4\n",
            "5\n",
            "The end..\n"
          ]
        }
      ]
    },
    {
      "cell_type": "code",
      "source": [
        "targetvalue =4\n",
        "iterate =0\n",
        "while iterate <targetvalue:\n",
        "  print(\"The iteration no. is {}, which is less than the target value {}\".format(iterate, targetvalue))\n",
        "  iterate=iterate+1\n",
        "print(\"The end!\")\n"
      ],
      "metadata": {
        "colab": {
          "base_uri": "https://localhost:8080/"
        },
        "id": "NmbLSJAkIXcS",
        "outputId": "27c1da85-a9d5-45f1-ba7f-db7c2ffab640"
      },
      "execution_count": null,
      "outputs": [
        {
          "output_type": "stream",
          "name": "stdout",
          "text": [
            "The iteration no. is 0, which is less than the target value 4\n",
            "The iteration no. is 1, which is less than the target value 4\n",
            "The iteration no. is 2, which is less than the target value 4\n",
            "The iteration no. is 3, which is less than the target value 4\n",
            "The end!\n"
          ]
        }
      ]
    },
    {
      "cell_type": "code",
      "source": [
        "#Example on Nested Loop\n",
        "for i in range(1,6): #This is the Outer Loop\n",
        " for j in range(1,11): #This is the Inner Loop\n",
        "  print(i*j, end=\" \") #This end=\" \" is added to have the output horizontally, if removed it will print vertically.\n",
        "print(\"The end...\")"
      ],
      "metadata": {
        "colab": {
          "base_uri": "https://localhost:8080/"
        },
        "id": "dhlanSpdKKqd",
        "outputId": "9f4f76f0-393d-47cd-ed98-1252c512777c"
      },
      "execution_count": null,
      "outputs": [
        {
          "output_type": "stream",
          "name": "stdout",
          "text": [
            "1 2 3 4 5 6 7 8 9 10 2 4 6 8 10 12 14 16 18 20 3 6 9 12 15 18 21 24 27 30 4 8 12 16 20 24 28 32 36 40 5 10 15 20 25 30 35 40 45 50 The end...\n"
          ]
        }
      ]
    },
    {
      "cell_type": "code",
      "source": [
        "#Another Example on Nested Loop\n",
        "colours = [\"blue\", \"red\", \"yellow\"]\n",
        "cars = [\"BMW\", \"Mercedes\", \"Range\"]\n",
        "for colour in colours: #Outer Loop\n",
        " for car in cars: #Inner Loop\n",
        "   print(colour, car)\n",
        "print(\"The end....\") "
      ],
      "metadata": {
        "colab": {
          "base_uri": "https://localhost:8080/"
        },
        "id": "DtomPcV-NOwQ",
        "outputId": "a3fa1a4a-6301-475f-e667-df4673ed046e"
      },
      "execution_count": null,
      "outputs": [
        {
          "output_type": "stream",
          "name": "stdout",
          "text": [
            "blue BMW\n",
            "blue Mercedes\n",
            "blue Range\n",
            "red BMW\n",
            "red Mercedes\n",
            "red Range\n",
            "yellow BMW\n",
            "yellow Mercedes\n",
            "yellow Range\n",
            "The end....\n"
          ]
        }
      ]
    },
    {
      "cell_type": "code",
      "source": [
        "#Example on \"break\" command which breaks the operation at a certain point\n",
        "targetv=5\n",
        "iterate=0\n",
        "while iterate<targetvalue:\n",
        "  print(\"Iteration number is {}, which is less than the target value {}\".format(iterate,targetv))\n",
        "  if iterate==3:\n",
        "    print(\"Condition of iterate value reached 3\")\n",
        "    break\n",
        "  iterate=iterate+1"
      ],
      "metadata": {
        "colab": {
          "base_uri": "https://localhost:8080/"
        },
        "id": "Mr0Ot4U-PGOh",
        "outputId": "54572ab9-e67e-4367-b986-a8f1dfac62ea"
      },
      "execution_count": null,
      "outputs": [
        {
          "output_type": "stream",
          "name": "stdout",
          "text": [
            "Iteration number is 0, which is less than the target value 5\n",
            "Iteration number is 1, which is less than the target value 5\n",
            "Iteration number is 2, which is less than the target value 5\n",
            "Iteration number is 3, which is less than the target value 5\n",
            "Condition of iterate value reached 3\n"
          ]
        }
      ]
    },
    {
      "cell_type": "code",
      "source": [
        "#Here we use the command \"continue\" to break or skip a certain point but to continue\n",
        "targetv=5\n",
        "iterate=0\n",
        "while iterate<targetv:\n",
        "  iterate=iterate+1\n",
        "  if iterate==2:\n",
        "    continue\n",
        "  print(\"Iteration no is {}, which is less than the target value {}\".format(iterate,targetv))\n",
        "print(\"The Iteration number 2 has been skipped\")"
      ],
      "metadata": {
        "colab": {
          "base_uri": "https://localhost:8080/"
        },
        "id": "7RtEesi0Qg2u",
        "outputId": "78e34f50-2cb0-4de2-ab29-f890d6634ee3"
      },
      "execution_count": null,
      "outputs": [
        {
          "output_type": "stream",
          "name": "stdout",
          "text": [
            "Iteration no is 1, which is less than the target value 5\n",
            "Iteration no is 3, which is less than the target value 5\n",
            "Iteration no is 4, which is less than the target value 5\n",
            "Iteration no is 5, which is less than the target value 5\n",
            "The Iteration number 2 has been skipped\n"
          ]
        }
      ]
    },
    {
      "cell_type": "code",
      "source": [
        "#Another example here for use of the command \"continue\" to break or skip a certain point but to continue\n",
        "names =[\"Mercy\", \"Anis\", \"Chris\", \"Israel\"]\n",
        "for name in names:\n",
        "  if name == \"Chris\":\n",
        "    continue\n",
        "  print(name)"
      ],
      "metadata": {
        "colab": {
          "base_uri": "https://localhost:8080/"
        },
        "id": "Z9V6p_biWne2",
        "outputId": "f73da365-6b3c-4708-f716-3aa2e8fad55e"
      },
      "execution_count": null,
      "outputs": [
        {
          "output_type": "stream",
          "name": "stdout",
          "text": [
            "Mercy\n",
            "Anis\n",
            "Israel\n"
          ]
        }
      ]
    },
    {
      "cell_type": "code",
      "source": [
        "#Change a value in a List\n",
        "mylist =[\"Michael\", \"Sean\", \"Adam\"]\n",
        "mylist[0]=\"John\"\n",
        "print(mylist)"
      ],
      "metadata": {
        "id": "F1Kg_dJMXhIG",
        "colab": {
          "base_uri": "https://localhost:8080/",
          "height": 0
        },
        "outputId": "eb444c12-964b-4117-8854-9b8c9a2df239"
      },
      "execution_count": 1,
      "outputs": [
        {
          "output_type": "stream",
          "name": "stdout",
          "text": [
            "['John', 'Sean', 'Adam']\n"
          ]
        }
      ]
    },
    {
      "cell_type": "code",
      "source": [
        "mylist[0:2]"
      ],
      "metadata": {
        "colab": {
          "base_uri": "https://localhost:8080/",
          "height": 0
        },
        "id": "9c5WxRi3aB6Q",
        "outputId": "10023c9d-0870-4f9b-c9e3-fe07fcb59294"
      },
      "execution_count": 2,
      "outputs": [
        {
          "output_type": "execute_result",
          "data": {
            "text/plain": [
              "['John', 'Sean']"
            ]
          },
          "metadata": {},
          "execution_count": 2
        }
      ]
    },
    {
      "cell_type": "code",
      "source": [
        "print(len(mylist[0]))"
      ],
      "metadata": {
        "colab": {
          "base_uri": "https://localhost:8080/",
          "height": 0
        },
        "id": "8WjLIXCuaLO8",
        "outputId": "699a405e-5b3b-4018-d73e-1ef8c669904f"
      },
      "execution_count": 3,
      "outputs": [
        {
          "output_type": "stream",
          "name": "stdout",
          "text": [
            "4\n"
          ]
        }
      ]
    },
    {
      "cell_type": "code",
      "source": [
        "print(len(mylist))"
      ],
      "metadata": {
        "colab": {
          "base_uri": "https://localhost:8080/",
          "height": 0
        },
        "id": "vf9TMmilaWr5",
        "outputId": "e6a1cd66-3ab9-4596-8848-59d5da0ac00d"
      },
      "execution_count": 4,
      "outputs": [
        {
          "output_type": "stream",
          "name": "stdout",
          "text": [
            "3\n"
          ]
        }
      ]
    },
    {
      "cell_type": "code",
      "source": [
        "print(type(mylist))"
      ],
      "metadata": {
        "colab": {
          "base_uri": "https://localhost:8080/",
          "height": 0
        },
        "id": "iYUvRgy8acVw",
        "outputId": "263e3b46-ff04-4326-abcb-b8471053d8bd"
      },
      "execution_count": 5,
      "outputs": [
        {
          "output_type": "stream",
          "name": "stdout",
          "text": [
            "<class 'list'>\n"
          ]
        }
      ]
    },
    {
      "cell_type": "code",
      "source": [
        "mylist =[\"Michael\", \"Sean\", \"Adam\"]\n",
        "if \"Sean\" in mylist:\n",
        "  print(\"Yes the element is in there\")"
      ],
      "metadata": {
        "colab": {
          "base_uri": "https://localhost:8080/",
          "height": 0
        },
        "id": "wphpuaVhagEu",
        "outputId": "f9a67c3e-4ad4-48d8-e7d6-2800d26ef041"
      },
      "execution_count": 7,
      "outputs": [
        {
          "output_type": "stream",
          "name": "stdout",
          "text": [
            "Yes the element is in there\n"
          ]
        }
      ]
    },
    {
      "cell_type": "code",
      "source": [
        "mylist =[\"Michael\", \"Sean\", \"Adam\"]\n",
        "mylist.insert(0,\"Mercy\")\n",
        "print(mylist)"
      ],
      "metadata": {
        "colab": {
          "base_uri": "https://localhost:8080/",
          "height": 0
        },
        "id": "zJmfrvHEbT7j",
        "outputId": "965d9dec-0154-4380-d4ea-0aa4d29b60d9"
      },
      "execution_count": 8,
      "outputs": [
        {
          "output_type": "stream",
          "name": "stdout",
          "text": [
            "['Mercy', 'Michael', 'Sean', 'Adam']\n"
          ]
        }
      ]
    },
    {
      "cell_type": "code",
      "source": [
        "mylist.append(\"Adam\")  #Since it is a List it allows duplicate elements in it.\n",
        "print(mylist)"
      ],
      "metadata": {
        "colab": {
          "base_uri": "https://localhost:8080/"
        },
        "id": "8dt3zG3FbwHW",
        "outputId": "adfba101-0230-4458-f70b-e8879ad4ee88"
      },
      "execution_count": 12,
      "outputs": [
        {
          "output_type": "stream",
          "name": "stdout",
          "text": [
            "['Mercy', 'Michael', 'Sean', 'Adam', 'Adam', 'Adam']\n"
          ]
        }
      ]
    },
    {
      "cell_type": "code",
      "source": [
        "mylist1 =[\"Michael\", \"Sean\", \"Adam\"]\n",
        "mylist2 = [\"Zara\", \"Alex\"]\n",
        "mylist1.extend(mylist2)\n",
        "print(mylist1)"
      ],
      "metadata": {
        "colab": {
          "base_uri": "https://localhost:8080/"
        },
        "id": "gbjoDiWAcKYW",
        "outputId": "e1f81cae-9047-4a93-fb23-c3997a380891"
      },
      "execution_count": 14,
      "outputs": [
        {
          "output_type": "stream",
          "name": "stdout",
          "text": [
            "['Michael', 'Sean', 'Adam', 'Zara', 'Alex']\n"
          ]
        }
      ]
    },
    {
      "cell_type": "code",
      "source": [
        "mylist2.extend(mylist1)\n",
        "print(mylist2)"
      ],
      "metadata": {
        "colab": {
          "base_uri": "https://localhost:8080/"
        },
        "id": "n-A8_gSGct_v",
        "outputId": "7a037c09-d499-4bd9-a7ee-4989461bc2d1"
      },
      "execution_count": 15,
      "outputs": [
        {
          "output_type": "stream",
          "name": "stdout",
          "text": [
            "['Zara', 'Alex', 'Michael', 'Sean', 'Adam', 'Zara', 'Alex']\n"
          ]
        }
      ]
    },
    {
      "cell_type": "code",
      "source": [
        "mylist2.remove(\"Zara\")\n",
        "print(mylist2)"
      ],
      "metadata": {
        "colab": {
          "base_uri": "https://localhost:8080/"
        },
        "id": "fsrVEE-1czjn",
        "outputId": "d732cc5a-7b52-4495-8603-b9c55fd423f5"
      },
      "execution_count": 17,
      "outputs": [
        {
          "output_type": "stream",
          "name": "stdout",
          "text": [
            "['Alex', 'Michael', 'Sean', 'Adam', 'Alex']\n"
          ]
        }
      ]
    },
    {
      "cell_type": "code",
      "source": [
        "#The \"pop\" command removes based on index but when not given an index it removes the last element.\n",
        "mylist2.pop()\n",
        "print(mylist2)"
      ],
      "metadata": {
        "colab": {
          "base_uri": "https://localhost:8080/"
        },
        "id": "88rcxEXldq7W",
        "outputId": "8baa5c38-64e1-40e3-ac43-37d2431f3ac9"
      },
      "execution_count": 18,
      "outputs": [
        {
          "output_type": "stream",
          "name": "stdout",
          "text": [
            "['Alex', 'Michael', 'Sean', 'Adam']\n"
          ]
        }
      ]
    },
    {
      "cell_type": "code",
      "source": [
        "mylist2.pop(0)\n",
        "print(mylist2)"
      ],
      "metadata": {
        "colab": {
          "base_uri": "https://localhost:8080/"
        },
        "id": "tRHWJ18Ndw0O",
        "outputId": "ba563f00-6682-4981-ed3c-efd20e953ed3"
      },
      "execution_count": 19,
      "outputs": [
        {
          "output_type": "stream",
          "name": "stdout",
          "text": [
            "['Michael', 'Sean', 'Adam']\n"
          ]
        }
      ]
    },
    {
      "cell_type": "code",
      "source": [
        "#Example to remove all Zara\n",
        "mylist5 =[\"Zara\", \"Alex\", \"Zara\", \"Michael\", \"Sean\", \"Adam\"]\n",
        "mylist5.sort()\n",
        "mylist5.pop(5)\n",
        "mylist5\n",
        "mylist5.pop(4)\n",
        "mylist5"
      ],
      "metadata": {
        "colab": {
          "base_uri": "https://localhost:8080/"
        },
        "id": "qZPZ6S5FeIYA",
        "outputId": "62f23b24-9e6d-45f7-8331-228bcccd3a3b"
      },
      "execution_count": 25,
      "outputs": [
        {
          "output_type": "execute_result",
          "data": {
            "text/plain": [
              "['Adam', 'Alex', 'Michael', 'Sean']"
            ]
          },
          "metadata": {},
          "execution_count": 25
        }
      ]
    },
    {
      "cell_type": "code",
      "source": [
        "#Example to remove all Zara\n",
        "mylist5 =[\"Zara\", \"Alex\", \"Zara\", \"Michael\", \"Sean\", \"Adam\"]\n",
        "for name in mylist5:\n",
        "  if name ==\"Zara\":\n",
        "   mylist5.remove(\"Zara\")\n",
        "print(mylist5)"
      ],
      "metadata": {
        "colab": {
          "base_uri": "https://localhost:8080/"
        },
        "id": "Cy7UmL1Qf9ul",
        "outputId": "7c9b3ceb-d1f2-400b-8633-981fb06e4f80"
      },
      "execution_count": 29,
      "outputs": [
        {
          "output_type": "stream",
          "name": "stdout",
          "text": [
            "['Alex', 'Michael', 'Sean', 'Adam']\n"
          ]
        }
      ]
    },
    {
      "cell_type": "code",
      "source": [
        "mylist6=[\"Zara\", \"Alex\", \"Zara\", \"Michael\", \"Sean\", \"Adam\"]\n",
        "mylist6.reverse()\n",
        "print(mylist6)"
      ],
      "metadata": {
        "colab": {
          "base_uri": "https://localhost:8080/"
        },
        "id": "dv5ukWdJhqsP",
        "outputId": "55870948-5b6f-47f3-df1e-8319efde1708"
      },
      "execution_count": 30,
      "outputs": [
        {
          "output_type": "stream",
          "name": "stdout",
          "text": [
            "['Adam', 'Sean', 'Michael', 'Zara', 'Alex', 'Zara']\n"
          ]
        }
      ]
    },
    {
      "cell_type": "code",
      "source": [
        "mylist7=[\"banana\",\"apple\",\"orange\"]\n",
        "mylist8=[\"Noun\", \"Adjective\", \"Adverbs\"]\n",
        "mylist9=mylist7+mylist8\n",
        "print(mylist9)"
      ],
      "metadata": {
        "colab": {
          "base_uri": "https://localhost:8080/"
        },
        "id": "9mqAAUl4ib-f",
        "outputId": "b6278269-9e4b-42fe-a624-9510184958ee"
      },
      "execution_count": 32,
      "outputs": [
        {
          "output_type": "stream",
          "name": "stdout",
          "text": [
            "['banana', 'apple', 'orange', 'Noun', 'Adjective', 'Adverbs']\n"
          ]
        }
      ]
    },
    {
      "cell_type": "code",
      "source": [
        "companies=[\"tiktok\", \"whatsapp\", \"facebook\"]\n",
        "searchedfor=\"google\"\n",
        "if searchedfor in companies:\n",
        "  print(companies, \"Yes, the company you searched for {} is in there\".format(searchedfor))\n",
        "else:\n",
        " print(\"No, it is not found but the programme you wrote is adding {} to those\".format(searchedfor), companies)\n",
        "companies.append(\"google\")\n",
        "print(\"Here, it has been added\", companies)"
      ],
      "metadata": {
        "colab": {
          "base_uri": "https://localhost:8080/"
        },
        "id": "6qP30ZSvi8Fp",
        "outputId": "9cff5b9e-bc30-4536-d999-cac747723091"
      },
      "execution_count": 59,
      "outputs": [
        {
          "output_type": "stream",
          "name": "stdout",
          "text": [
            "No, it is not found but the programme you wrote is adding google to those ['tiktok', 'whatsapp', 'facebook']\n",
            "Here, it has been added ['tiktok', 'whatsapp', 'facebook', 'google']\n"
          ]
        }
      ]
    }
  ]
}